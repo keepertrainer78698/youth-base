{
 "metadata": {
  "language_info": {
   "codemirror_mode": {
    "name": "ipython",
    "version": 3
   },
   "file_extension": ".py",
   "mimetype": "text/x-python",
   "name": "python",
   "nbconvert_exporter": "python",
   "pygments_lexer": "ipython3",
   "version": "3.7.6-final"
  },
  "orig_nbformat": 2,
  "kernelspec": {
   "name": "python3",
   "display_name": "Python 3.7.6 64-bit ('env')",
   "metadata": {
    "interpreter": {
     "hash": "2ee736e6460c18009aceec69817ca5390d5e9860f9b4585979ff241c3f9cb44d"
    }
   }
  }
 },
 "nbformat": 4,
 "nbformat_minor": 2,
 "cells": [
  {
   "cell_type": "code",
   "execution_count": 612,
   "metadata": {},
   "outputs": [],
   "source": [
    "import pandas as pd\n",
    "import fnmatch\n",
    "import os\n",
    "import boto3\n",
    "import io"
   ]
  },
  {
   "source": [
    "# Load and Cleansing of Training Data"
   ],
   "cell_type": "code",
   "metadata": {},
   "execution_count": null,
   "outputs": []
  },
  {
   "source": [
    "# Load from S3\n",
    "!ln -s /Users/matthiashugli/Virtualenvs/youth-base/youth-base/config.py config.py\n",
    "from config import s3\n",
    "\n",
    "bucket_name = 'training-minutes'\n",
    "\n",
    "df = pd.DataFrame()\n",
    "for obj in s3.Bucket(bucket_name).objects.all():\n",
    "    ## List all files and convert them to Dataframe\n",
    "    data = s3.Bucket(bucket_name).Object(obj.key).get()\n",
    "    file = pd.read_excel(io.BytesIO(data['Body'].read()), sheet_name='s1_core_trm_player_unit_skills', index_col=None, header=1)\n",
    "\n",
    "    ## Cleansing of File\n",
    "    ### Remove unnecessary rows, label duration and count measure columns correctly and transpose into long\n",
    "    file = file.iloc[2:]\n",
    "    file = file.rename(columns=lambda c: c.replace('.1', '.count') if fnmatch.fnmatch(c, '*.1') else c + \".duration\")\n",
    "    file = file.melt(file.columns[0:3])\n",
    "\n",
    "    ### Properly Name columns and categories\n",
    "    file[['skills', 'entity']] = file.variable.apply(lambda x: pd.Series(str(x).split('.')))\n",
    "    file = file.drop(columns=['Category Name.duration', 'variable'])\n",
    "    file = file.rename(columns={'Unnamed: 0.duration': 'team', 'Unnamed: 1.duration': 'keeper'})\n",
    "\n",
    "    ### Pivot file for all categories and create two columns for duration in minutes and number of trainings\n",
    "    file = file.pivot(index=['team', 'keeper', 'skills'], columns='entity', values='value').reset_index()\n",
    "\n",
    "    ### Clean catgegory and date columns\n",
    "    file[['team', 'club']] = file.team.str.split(' BSC', 1, expand=True)\n",
    "    file[['team', 'club']] = file.team.str.split(' YB', 1, expand=True)\n",
    "    file['filename'] = filename\n",
    "    file[['file', 'type']] = file.filename.apply(lambda x: pd.Series(str(x).split('.')))\n",
    "    file['yearmonth'] = file.file.str[-6:]\n",
    "    file['date'] = pd.to_datetime(file.yearmonth, format='%Y%m', errors='coerce').dropna()\n",
    "    file['year'] = pd.DatetimeIndex(file['date']).year\n",
    "    file['month'] = file.date.dt.month_name()\n",
    "\n",
    "    ### Drop all helping columns and values with NaN\n",
    "    file = file.drop(columns=['filename', 'file', 'type', 'club'])\n",
    "    file = file.dropna(subset=['count', 'duration'])\n",
    "\n",
    "    ### append cleansed file into one Dataframe\n",
    "    df = df.append(file)\n",
    "\n",
    "## Save to csv file\n",
    "df.to_csv('trainings.csv')\n",
    "   "
   ],
   "cell_type": "code",
   "metadata": {},
   "execution_count": null,
   "outputs": []
  },
  {
   "cell_type": "code",
   "execution_count": 586,
   "metadata": {
    "tags": []
   },
   "outputs": [],
   "source": [
    "# Outdated!!! Read from local files, however files are stored on S3 from March 2021\n",
    "\n",
    "path = '/Users/matthiashugli/Virtualenvs/youth-base/youth-base/training-analysis/data'\n",
    "\n",
    "data = [os.path.join(dirpath, f) for dirpath, dirnames, files in os.walk(path) for f in fnmatch.filter(files, '*.xlsx')]\n",
    "\n",
    "df = pd.DataFrame()\n",
    "for filename in data:\n",
    "    source = pd.read_excel(filename, sheet_name='s1_core_trm_player_unit_skills', index_col=None, header=1)\n",
    "    source = source.iloc[2:]\n",
    "    source = source.rename(columns=lambda c: c.replace('.1', '.count') if fnmatch.fnmatch(c, '*.1') else c + \".duration\")\n",
    "    source = source.melt(source.columns[0:3])\n",
    "    source[['skills', 'entity']] = source.variable.apply(lambda x: pd.Series(str(x).split('.')))\n",
    "    source = source.drop(columns=['Category Name.duration', 'variable'])\n",
    "    source = source.rename(columns={'Unnamed: 0.duration': 'team', 'Unnamed: 1.duration': 'keeper'})\n",
    "    source = source.pivot(index=['team', 'keeper', 'skills'], columns='entity', values='value').reset_index()\n",
    "    source[['team', 'club']] = source.team.str.split(' BSC', 1, expand=True)\n",
    "    source[['team', 'club']] = source.team.str.split(' YB', 1, expand=True)\n",
    "    source['filename'] = filename\n",
    "    source[['file', 'type']] = source.filename.apply(lambda x: pd.Series(str(x).split('.')))\n",
    "    source['yearmonth'] = source.file.str[-6:]\n",
    "    source['date'] = pd.to_datetime(source.yearmonth, format='%Y%m', errors='coerce').dropna()\n",
    "    source['year'] = pd.DatetimeIndex(source['date']).year\n",
    "    source['month'] = source.date.dt.month_name()\n",
    "    source = source.drop(columns=['filename', 'file', 'type', 'club'])\n",
    "    source = source.dropna(subset=['count', 'duration'])\n",
    "    df = df.append(source)\n",
    "\n",
    "#df.to_csv('trainings.csv')\n"
   ]
  }
 ]
}