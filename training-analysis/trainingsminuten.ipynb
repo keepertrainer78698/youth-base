{
 "metadata": {
  "language_info": {
   "codemirror_mode": {
    "name": "ipython",
    "version": 3
   },
   "file_extension": ".py",
   "mimetype": "text/x-python",
   "name": "python",
   "nbconvert_exporter": "python",
   "pygments_lexer": "ipython3",
   "version": "3.7.6-final"
  },
  "orig_nbformat": 2,
  "kernelspec": {
   "name": "python3",
   "display_name": "Python 3.7.6 64-bit ('env')",
   "metadata": {
    "interpreter": {
     "hash": "2ee736e6460c18009aceec69817ca5390d5e9860f9b4585979ff241c3f9cb44d"
    }
   }
  }
 },
 "nbformat": 4,
 "nbformat_minor": 2,
 "cells": [
  {
   "source": [
    "# Load and Cleansing of Training Data"
   ],
   "cell_type": "markdown",
   "metadata": {}
  },
  {
   "source": [
    "import pandas as pd\n",
    "import fnmatch\n",
    "import os\n",
    "import csv\n",
    "import codecs\n",
    "import boto3\n",
    "import io\n",
    "from io import StringIO\n",
    "\n",
    "csv_buffer = StringIO()"
   ],
   "cell_type": "code",
   "metadata": {},
   "execution_count": 608,
   "outputs": []
  },
  {
   "source": [
    "## Load Data from aws S3"
   ],
   "cell_type": "markdown",
   "metadata": {}
  },
  {
   "cell_type": "code",
   "execution_count": 609,
   "metadata": {},
   "outputs": [
    {
     "output_type": "stream",
     "name": "stdout",
     "text": [
      "ln: config.py: File exists\n"
     ]
    }
   ],
   "source": [
    "!ln -s /Users/matthiashugli/Virtualenvs/youth-base/youth-base/config.py config.py\n",
    "from config import s3\n"
   ]
  },
  {
   "cell_type": "code",
   "execution_count": 610,
   "metadata": {},
   "outputs": [
    {
     "output_type": "stream",
     "name": "stdout",
     "text": [
      "2\n"
     ]
    }
   ],
   "source": [
    "### Monthly data is stored to subfolder in S3 Bucket, read and store filenames\n",
    "bucket_name = s3.Bucket('training-minutes')\n",
    "\n",
    "bucket_list = []\n",
    "for file in bucket_name.objects.filter(Prefix = 'rawdata/'):\n",
    "    file_key = file.key\n",
    "    if file_key.find('.csv') != -1:\n",
    "        bucket_list.append(file.key)\n",
    "print(len(bucket_list))"
   ]
  },
  {
   "cell_type": "code",
   "execution_count": 611,
   "metadata": {
    "tags": []
   },
   "outputs": [
    {
     "output_type": "execute_result",
     "data": {
      "text/plain": [
       "{'ResponseMetadata': {'RequestId': 'G1WYJ807DEJPDHC6',\n",
       "  'HostId': 'narIgn7A7aqOg51nDGYHA6wsrfnPN/EuapsQ8sfr0c1V0Cxqy9ZrY8jhO/d3K1aBMdp0L3kc5FA=',\n",
       "  'HTTPStatusCode': 200,\n",
       "  'HTTPHeaders': {'x-amz-id-2': 'narIgn7A7aqOg51nDGYHA6wsrfnPN/EuapsQ8sfr0c1V0Cxqy9ZrY8jhO/d3K1aBMdp0L3kc5FA=',\n",
       "   'x-amz-request-id': 'G1WYJ807DEJPDHC6',\n",
       "   'date': 'Mon, 29 Mar 2021 04:31:42 GMT',\n",
       "   'etag': '\"30c0d8b606af83d2d6957bdb7b8c76e1\"',\n",
       "   'content-length': '0',\n",
       "   'server': 'AmazonS3'},\n",
       "  'RetryAttempts': 0},\n",
       " 'ETag': '\"30c0d8b606af83d2d6957bdb7b8c76e1\"'}"
      ]
     },
     "metadata": {},
     "execution_count": 611
    }
   ],
   "source": [
    "### Read all files in Bucket and return as a DataFrame\n",
    "df = pd.DataFrame()\n",
    "for file_name in bucket_list:\n",
    "    obj = s3.Object(bucket_name.name, file_name)\n",
    "    data = obj.get()['Body'].read()\n",
    "    file = pd.read_csv(io.BytesIO(data), header=1, delimiter=',', low_memory=False)\n",
    "    file.insert(0, 'filename', file_name)\n",
    "\n",
    "    df = df.append(file)\n",
    "\n",
    "### Save DataFrame to S3 as CSV\n",
    "df.to_csv(csv_buffer)\n",
    "s3.Object(bucket_name.name, 'staging_trainings.csv').put(Body=csv_buffer.getvalue())"
   ]
  },
  {
   "source": [
    "## Cleanse Training Data"
   ],
   "cell_type": "markdown",
   "metadata": {}
  },
  {
   "cell_type": "code",
   "execution_count": 612,
   "metadata": {},
   "outputs": [],
   "source": [
    "### Properly name columns and broad data table\n",
    "df = df.drop(df.columns[[3]], axis=1)\n",
    "df = df.rename(columns={'Unnamed: 0': 'team', 'Unnamed: 1': 'keeper'})\n",
    "unpivot_df = pd.melt(df, id_vars=['filename', 'team', 'keeper'], var_name='topic', value_name='value')"
   ]
  },
  {
   "cell_type": "code",
   "execution_count": 613,
   "metadata": {},
   "outputs": [],
   "source": [
    "### Set numeric values and rename value columns for pivot\n",
    "trainings = unpivot_df\n",
    "\n",
    "trainings['value'] = pd.to_numeric(trainings.value, errors='coerce')\n",
    "\n",
    "trainings['topic'] = trainings.topic.apply(lambda x: x.replace('.1', '.trainings') if fnmatch.fnmatch(x, '*.1') else x + \".duration\")\n",
    "\n",
    "### Pivot DataFrame for all categories and create two columns for duration in minutes and number of trainings\n",
    "trainings[['topic', 'entity']] = trainings.topic.apply(lambda x: pd.Series(str(x).split('.')))\n",
    "trainings = trainings.pivot(index=['filename', 'team', 'keeper', 'topic'], columns='entity', values='value').reset_index()\n",
    "trainings = trainings.dropna(subset=['duration', 'trainings'])"
   ]
  },
  {
   "cell_type": "code",
   "execution_count": 614,
   "metadata": {
    "tags": []
   },
   "outputs": [],
   "source": [
    "### Remove and rename club and skill details\n",
    "trainings[['team', 'club']] = trainings.team.str.split(' BSC', 1, expand=True)\n",
    "trainings[['team', 'club']] = trainings.team.str.split(' YB', 1, expand=True)\n",
    "trainings[['category', 'skills']] = trainings.topic.apply(lambda x: pd.Series(str(x).split(':')) if fnmatch.fnmatch(x, ':') else pd.Series(str(x).split(' ', 1)))\n",
    "trainings['category'] = trainings.category.str.replace(':', '')"
   ]
  },
  {
   "cell_type": "code",
   "execution_count": 615,
   "metadata": {},
   "outputs": [],
   "source": [
    "# Date cleansing\n",
    "trainings[['file', 'type']] = trainings.filename.apply(lambda x: pd.Series(str(x).split('.')))\n",
    "trainings['yearmonth'] = trainings.file.str[-6:]\n",
    "trainings['date'] = pd.to_datetime(trainings.yearmonth, format='%Y%m', errors='coerce').dropna()\n",
    "trainings['year'] = pd.DatetimeIndex(trainings['date']).year\n",
    "trainings['month'] = trainings.date.dt.month_name()"
   ]
  },
  {
   "cell_type": "code",
   "execution_count": 616,
   "metadata": {},
   "outputs": [],
   "source": [
    "### Drop columns and reorder DataFrame\n",
    "trainings['team'] = trainings.team.apply(lambda x: 'U21' if fnmatch.fnmatch(x, '1. Mannschaft') else x)\n",
    "trainings = trainings.drop(columns=['filename', 'topic', 'club', 'file', 'type']).reset_index()\n",
    "trainings = trainings.reindex(columns=['team', 'keeper', 'date', 'year', 'yearmonth', 'month', 'category', 'skills', 'trainings', 'duration'])"
   ]
  },
  {
   "cell_type": "code",
   "execution_count": 619,
   "metadata": {},
   "outputs": [],
   "source": [
    "### Modify training unites as int\n",
    "trainings['trainings'] = trainings.trainings.astype(int)\n",
    "\n",
    "### Divide duration in mintues by 1440 to display hh:mm in report\n",
    "trainings['duration'] = trainings.duration / 1440"
   ]
  },
  {
   "source": [
    "## Export Cleansed DataFrame to aws S3"
   ],
   "cell_type": "markdown",
   "metadata": {}
  },
  {
   "cell_type": "code",
   "execution_count": 620,
   "metadata": {},
   "outputs": [
    {
     "output_type": "execute_result",
     "data": {
      "text/plain": [
       "{'ResponseMetadata': {'RequestId': 'VNKW0RHVS6AH5RV6',\n",
       "  'HostId': '7lEqzT9qdS8d0QLXojiPWUpfaciLrPBOt3MoqzwrENVMhAsw6qTpbs95ytG5sGDTFCDaETKzfWA=',\n",
       "  'HTTPStatusCode': 200,\n",
       "  'HTTPHeaders': {'x-amz-id-2': '7lEqzT9qdS8d0QLXojiPWUpfaciLrPBOt3MoqzwrENVMhAsw6qTpbs95ytG5sGDTFCDaETKzfWA=',\n",
       "   'x-amz-request-id': 'VNKW0RHVS6AH5RV6',\n",
       "   'date': 'Mon, 29 Mar 2021 04:42:20 GMT',\n",
       "   'etag': '\"92e2ecb012f67066c0b8b508509ab61d\"',\n",
       "   'content-length': '0',\n",
       "   'server': 'AmazonS3'},\n",
       "  'RetryAttempts': 0},\n",
       " 'ETag': '\"92e2ecb012f67066c0b8b508509ab61d\"'}"
      ]
     },
     "metadata": {},
     "execution_count": 620
    }
   ],
   "source": [
    "trainings_export = trainings\n",
    "trainings_export.to_csv('cleansing_trainings.csv', index=False)\n",
    "trainings.to_csv(csv_buffer)\n",
    "s3.Object(bucket_name.name, 'cleansing_trainings.csv').put(Body=csv_buffer.getvalue())"
   ]
  },
  {
   "cell_type": "code",
   "execution_count": 603,
   "metadata": {
    "tags": []
   },
   "outputs": [],
   "source": [
    "# Outdated!!! Read from local files, however files are stored on S3 from March 2021\n",
    "\n",
    "path = '/Users/matthiashugli/Virtualenvs/youth-base/youth-base/training-analysis/data'\n",
    "\n",
    "data = [os.path.join(dirpath, f) for dirpath, dirnames, files in os.walk(path) for f in fnmatch.filter(files, '*.xlsx')]\n",
    "\n",
    "df = pd.DataFrame()\n",
    "for filename in data:\n",
    "    file = pd.read_excel(filename, sheet_name='s1_core_trm_player_unit_skills', index_col=None, header=1)\n"
   ]
  }
 ]
}