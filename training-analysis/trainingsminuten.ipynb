{
 "metadata": {
  "language_info": {
   "codemirror_mode": {
    "name": "ipython",
    "version": 3
   },
   "file_extension": ".py",
   "mimetype": "text/x-python",
   "name": "python",
   "nbconvert_exporter": "python",
   "pygments_lexer": "ipython3",
   "version": "3.7.6-final"
  },
  "orig_nbformat": 2,
  "kernelspec": {
   "name": "python3",
   "display_name": "Python 3.7.6 64-bit ('env': venv)",
   "metadata": {
    "interpreter": {
     "hash": "2ee736e6460c18009aceec69817ca5390d5e9860f9b4585979ff241c3f9cb44d"
    }
   }
  }
 },
 "nbformat": 4,
 "nbformat_minor": 2,
 "cells": [
  {
   "source": [
    "import pandas as pd\n",
    "import fnmatch\n",
    "import os\n",
    "import glob\n",
    "import csv\n",
    "import codecs\n",
    "import boto3\n",
    "import io\n",
    "from io import StringIO\n",
    "\n",
    "csv_buffer = StringIO()"
   ],
   "cell_type": "code",
   "metadata": {},
   "execution_count": 47,
   "outputs": []
  },
  {
   "source": [
    "# Load Data from Local directory"
   ],
   "cell_type": "markdown",
   "metadata": {}
  },
  {
   "cell_type": "code",
   "execution_count": 51,
   "metadata": {
    "tags": []
   },
   "outputs": [
    {
     "output_type": "stream",
     "name": "stdout",
     "text": [
      "/Users/matthiashugli/Virtualenvs/youth-base/youth-base/training-analysis/data/s1_core_trm_player_unit_skills_202104.csv\n/Users/matthiashugli/Virtualenvs/youth-base/youth-base/training-analysis/data/s1_core_trm_player_unit_skills_202101.csv\n/Users/matthiashugli/Virtualenvs/youth-base/youth-base/training-analysis/data/s1_core_trm_player_unit_skills_202102.csv\n/Users/matthiashugli/Virtualenvs/youth-base/youth-base/training-analysis/data/s1_core_trm_player_unit_skills_202103.csv\n"
     ]
    }
   ],
   "source": [
    "# Outdated!!! Read from local files, however files are stored on S3 from March 2021\n",
    "\n",
    "path = '/Users/matthiashugli/Virtualenvs/youth-base/youth-base/training-analysis/data/*.csv'\n",
    "\n",
    "#files = [os.path.join(dirpath, f) for dirpath, dirnames, files in os.walk(path) for f in fnmatch.filter(files, '*.xlsx')]\n",
    "#files = os.listdir(path)\n",
    "\n",
    "df = pd.DataFrame()\n",
    "for filename in glob.glob(path):\n",
    "    print(filename)\n",
    "    file = pd.read_csv(filename, header=1, delimiter=',', low_memory=False)\n",
    "    file.insert(0, 'filename', filename)\n",
    "    df = df.append(file)\n"
   ]
  },
  {
   "cell_type": "code",
   "execution_count": 51,
   "metadata": {},
   "outputs": [],
   "source": [
    "\n"
   ]
  },
  {
   "source": [
    "## Cleanse Training Data"
   ],
   "cell_type": "markdown",
   "metadata": {}
  },
  {
   "cell_type": "code",
   "execution_count": 52,
   "metadata": {},
   "outputs": [],
   "source": [
    "### Properly name columns and broad data table\n",
    "df = df.drop(df.columns[[3]], axis=1)\n",
    "df = df.rename(columns={'Unnamed: 0': 'team', 'Unnamed: 1': 'keeper'})\n",
    "unpivot_df = pd.melt(df, id_vars=['filename', 'team', 'keeper'], var_name='skills', value_name='value')"
   ]
  },
  {
   "cell_type": "code",
   "execution_count": 53,
   "metadata": {},
   "outputs": [],
   "source": [
    "### Set numeric values and rename value columns for pivot\n",
    "trainings = unpivot_df\n",
    "\n",
    "trainings['value'] = pd.to_numeric(trainings.value, errors='coerce')\n",
    "\n",
    "trainings['skills'] = trainings.skills.apply(lambda x: x.replace('.1', '.units') if fnmatch.fnmatch(x, '*.1') else x + \".duration\")\n",
    "\n",
    "### Pivot DataFrame for all categories and create two columns for duration in minutes and number of trainings\n",
    "trainings[['skills', 'entity']] = trainings.skills.apply(lambda x: pd.Series(str(x).split('.')))\n",
    "trainings = trainings.pivot(index=['filename', 'team', 'keeper', 'skills'], columns='entity', values='value').reset_index()\n",
    "trainings = trainings.dropna(subset=['duration', 'units'])"
   ]
  },
  {
   "cell_type": "code",
   "execution_count": 54,
   "metadata": {
    "tags": []
   },
   "outputs": [],
   "source": [
    "### Remove and rename club and skill details\n",
    "trainings[['team', 'club']] = trainings.team.str.split(' BSC', 1, expand=True)\n",
    "trainings[['team', 'club']] = trainings.team.str.split(' YB', 1, expand=True)\n",
    "trainings[['category', 'topic']] = trainings.skills.apply(lambda x: pd.Series(str(x).split(':')) if fnmatch.fnmatch(x, ':') else pd.Series(str(x).split(' ', 1)))\n",
    "trainings['category'] = trainings.category.str.replace(':', '')"
   ]
  },
  {
   "cell_type": "code",
   "execution_count": 55,
   "metadata": {},
   "outputs": [],
   "source": [
    "# Date cleansing\n",
    "trainings[['file', 'type']] = trainings.filename.apply(lambda x: pd.Series(str(x).split('.')))\n",
    "trainings['yearmonth'] = trainings.file.str[-6:]\n",
    "trainings['date'] = pd.to_datetime(trainings.yearmonth, format='%Y%m', errors='coerce').dropna()\n",
    "trainings['year'] = pd.DatetimeIndex(trainings['date']).year\n",
    "trainings['month'] = trainings.date.dt.month_name()"
   ]
  },
  {
   "cell_type": "code",
   "execution_count": 56,
   "metadata": {},
   "outputs": [],
   "source": [
    "### Drop columns and reorder DataFrame\n",
    "trainings['team'] = trainings.team.apply(lambda x: 'U21' if fnmatch.fnmatch(x, '1. Mannschaft') else x)\n",
    "trainings = trainings.drop(columns=['filename', 'topic', 'club', 'file', 'type']).reset_index()\n",
    "trainings = trainings.reindex(columns=['team', 'keeper', 'date', 'year', 'yearmonth', 'month', 'category', 'skills', 'units', 'duration'])"
   ]
  },
  {
   "cell_type": "code",
   "execution_count": 57,
   "metadata": {},
   "outputs": [],
   "source": [
    "### Modify training unites as int\n",
    "trainings['units'] = trainings.units.astype(int)\n",
    "\n",
    "### Divide duration in mintues by 1440 to display hh:mm in report\n",
    "# trainings['duration'] = trainings.duration / 1440"
   ]
  },
  {
   "source": [
    "## Export Cleansed DataFrame to aws S3"
   ],
   "cell_type": "markdown",
   "metadata": {}
  },
  {
   "cell_type": "code",
   "execution_count": 58,
   "metadata": {},
   "outputs": [
    {
     "output_type": "error",
     "ename": "NameError",
     "evalue": "name 's3' is not defined",
     "traceback": [
      "\u001b[0;31m---------------------------------------------------------------------------\u001b[0m",
      "\u001b[0;31mNameError\u001b[0m                                 Traceback (most recent call last)",
      "\u001b[0;32m<ipython-input-58-260170b66906>\u001b[0m in \u001b[0;36m<module>\u001b[0;34m\u001b[0m\n\u001b[1;32m      2\u001b[0m \u001b[0mtrainings_export\u001b[0m\u001b[0;34m.\u001b[0m\u001b[0mto_csv\u001b[0m\u001b[0;34m(\u001b[0m\u001b[0;34m'cleansing_trainings.csv'\u001b[0m\u001b[0;34m,\u001b[0m \u001b[0mindex\u001b[0m\u001b[0;34m=\u001b[0m\u001b[0;32mFalse\u001b[0m\u001b[0;34m)\u001b[0m\u001b[0;34m\u001b[0m\u001b[0;34m\u001b[0m\u001b[0m\n\u001b[1;32m      3\u001b[0m \u001b[0mtrainings_export\u001b[0m\u001b[0;34m.\u001b[0m\u001b[0mto_csv\u001b[0m\u001b[0;34m(\u001b[0m\u001b[0mcsv_buffer\u001b[0m\u001b[0;34m,\u001b[0m \u001b[0mindex\u001b[0m\u001b[0;34m=\u001b[0m\u001b[0;32mFalse\u001b[0m\u001b[0;34m)\u001b[0m\u001b[0;34m\u001b[0m\u001b[0;34m\u001b[0m\u001b[0m\n\u001b[0;32m----> 4\u001b[0;31m \u001b[0ms3\u001b[0m\u001b[0;34m.\u001b[0m\u001b[0mObject\u001b[0m\u001b[0;34m(\u001b[0m\u001b[0mbucket_name\u001b[0m\u001b[0;34m.\u001b[0m\u001b[0mname\u001b[0m\u001b[0;34m,\u001b[0m \u001b[0;34m'cleansing_trainings.csv'\u001b[0m\u001b[0;34m)\u001b[0m\u001b[0;34m.\u001b[0m\u001b[0mput\u001b[0m\u001b[0;34m(\u001b[0m\u001b[0mBody\u001b[0m\u001b[0;34m=\u001b[0m\u001b[0mcsv_buffer\u001b[0m\u001b[0;34m.\u001b[0m\u001b[0mgetvalue\u001b[0m\u001b[0;34m(\u001b[0m\u001b[0;34m)\u001b[0m\u001b[0;34m)\u001b[0m\u001b[0;34m\u001b[0m\u001b[0;34m\u001b[0m\u001b[0m\n\u001b[0m\u001b[1;32m      5\u001b[0m \u001b[0mprint\u001b[0m\u001b[0;34m(\u001b[0m\u001b[0ms3\u001b[0m\u001b[0;34m.\u001b[0m\u001b[0mObject\u001b[0m\u001b[0;34m(\u001b[0m\u001b[0mbucket_name\u001b[0m\u001b[0;34m.\u001b[0m\u001b[0mname\u001b[0m\u001b[0;34m,\u001b[0m \u001b[0;34m'cleansing_trainings.csv'\u001b[0m\u001b[0;34m)\u001b[0m\u001b[0;34m.\u001b[0m\u001b[0mput\u001b[0m\u001b[0;34m(\u001b[0m\u001b[0mBody\u001b[0m\u001b[0;34m=\u001b[0m\u001b[0mcsv_buffer\u001b[0m\u001b[0;34m.\u001b[0m\u001b[0mgetvalue\u001b[0m\u001b[0;34m(\u001b[0m\u001b[0;34m)\u001b[0m\u001b[0;34m)\u001b[0m\u001b[0;34m)\u001b[0m\u001b[0;34m\u001b[0m\u001b[0;34m\u001b[0m\u001b[0m\n",
      "\u001b[0;31mNameError\u001b[0m: name 's3' is not defined"
     ]
    }
   ],
   "source": [
    "trainings_export = trainings\n",
    "trainings_export.to_csv('cleansing_trainings.csv', index=False)\n",
    "#trainings_export.to_csv(csv_buffer, index=False)\n",
    "#s3.Object(bucket_name.name, 'cleansing_trainings.csv').put(Body=csv_buffer.getvalue())\n",
    "#print(s3.Object(bucket_name.name, 'cleansing_trainings.csv').put(Body=csv_buffer.getvalue()))"
   ]
  },
  {
   "cell_type": "code",
   "execution_count": 138,
   "metadata": {},
   "outputs": [
    {
     "output_type": "stream",
     "name": "stdout",
     "text": [
      "3\n"
     ]
    }
   ],
   "source": [
    "### Outdated AWS S3 not in use anymore\n",
    "!ln -s /Users/matthiashugli/Virtualenvs/youth-base/youth-base/config.py config.py\n",
    "from config import s3\n",
    "\n",
    "### Monthly data is stored to subfolder in S3 Bucket, read and store filenames\n",
    "bucket_name = s3.Bucket('training-minutes')\n",
    "\n",
    "bucket_list = []\n",
    "for file in bucket_name.objects.filter(Prefix = 'rawdata/'):\n",
    "    file_key = file.key\n",
    "    if file_key.find('.csv') != -1:\n",
    "        bucket_list.append(file.key)\n",
    "print(len(bucket_list))"
   ]
  },
  {
   "cell_type": "code",
   "execution_count": 46,
   "metadata": {
    "tags": []
   },
   "outputs": [
    {
     "output_type": "error",
     "ename": "NameError",
     "evalue": "name 'bucket_list' is not defined",
     "traceback": [
      "\u001b[0;31m---------------------------------------------------------------------------\u001b[0m",
      "\u001b[0;31mNameError\u001b[0m                                 Traceback (most recent call last)",
      "\u001b[0;32m<ipython-input-46-002bd4ba7905>\u001b[0m in \u001b[0;36m<module>\u001b[0;34m\u001b[0m\n\u001b[1;32m      1\u001b[0m \u001b[0;31m### Read all files in Bucket and return as a DataFrame\u001b[0m\u001b[0;34m\u001b[0m\u001b[0;34m\u001b[0m\u001b[0;34m\u001b[0m\u001b[0m\n\u001b[1;32m      2\u001b[0m \u001b[0mdf\u001b[0m \u001b[0;34m=\u001b[0m \u001b[0mpd\u001b[0m\u001b[0;34m.\u001b[0m\u001b[0mDataFrame\u001b[0m\u001b[0;34m(\u001b[0m\u001b[0;34m)\u001b[0m\u001b[0;34m\u001b[0m\u001b[0;34m\u001b[0m\u001b[0m\n\u001b[0;32m----> 3\u001b[0;31m \u001b[0;32mfor\u001b[0m \u001b[0mfile_name\u001b[0m \u001b[0;32min\u001b[0m \u001b[0mbucket_list\u001b[0m\u001b[0;34m:\u001b[0m\u001b[0;34m\u001b[0m\u001b[0;34m\u001b[0m\u001b[0m\n\u001b[0m\u001b[1;32m      4\u001b[0m     \u001b[0mobj\u001b[0m \u001b[0;34m=\u001b[0m \u001b[0ms3\u001b[0m\u001b[0;34m.\u001b[0m\u001b[0mObject\u001b[0m\u001b[0;34m(\u001b[0m\u001b[0mbucket_name\u001b[0m\u001b[0;34m.\u001b[0m\u001b[0mname\u001b[0m\u001b[0;34m,\u001b[0m \u001b[0mfile_name\u001b[0m\u001b[0;34m)\u001b[0m\u001b[0;34m\u001b[0m\u001b[0;34m\u001b[0m\u001b[0m\n\u001b[1;32m      5\u001b[0m     \u001b[0mdata\u001b[0m \u001b[0;34m=\u001b[0m \u001b[0mobj\u001b[0m\u001b[0;34m.\u001b[0m\u001b[0mget\u001b[0m\u001b[0;34m(\u001b[0m\u001b[0;34m)\u001b[0m\u001b[0;34m[\u001b[0m\u001b[0;34m'Body'\u001b[0m\u001b[0;34m]\u001b[0m\u001b[0;34m.\u001b[0m\u001b[0mread\u001b[0m\u001b[0;34m(\u001b[0m\u001b[0;34m)\u001b[0m\u001b[0;34m\u001b[0m\u001b[0;34m\u001b[0m\u001b[0m\n",
      "\u001b[0;31mNameError\u001b[0m: name 'bucket_list' is not defined"
     ]
    }
   ],
   "source": [
    "### Read all files in Bucket and return as a DataFrame\n",
    "df = pd.DataFrame()\n",
    "for file_name in bucket_list:\n",
    "    obj = s3.Object(bucket_name.name, file_name)\n",
    "    data = obj.get()['Body'].read()\n",
    "    file = pd.read_csv(io.BytesIO(data), header=1, delimiter=',', low_memory=False)\n",
    "    file.insert(0, 'filename', file_name)\n",
    "\n",
    "    df = df.append(file)\n",
    "\n",
    "### Save DataFrame to S3 as CSV\n",
    "#df.to_csv(csv_buffer)\n",
    "#s3.Object(bucket_name.name, 'staging_trainings.csv').put(Body=csv_buffer.getvalue())\n",
    "#s3.upload_file"
   ]
  }
 ]
}