{
 "metadata": {
  "language_info": {
   "codemirror_mode": {
    "name": "ipython",
    "version": 3
   },
   "file_extension": ".py",
   "mimetype": "text/x-python",
   "name": "python",
   "nbconvert_exporter": "python",
   "pygments_lexer": "ipython3",
   "version": "3.7.6-final"
  },
  "orig_nbformat": 2,
  "kernelspec": {
   "name": "python3",
   "display_name": "Python 3.7.6 64-bit ('env')",
   "metadata": {
    "interpreter": {
     "hash": "2ee736e6460c18009aceec69817ca5390d5e9860f9b4585979ff241c3f9cb44d"
    }
   }
  }
 },
 "nbformat": 4,
 "nbformat_minor": 2,
 "cells": [
  {
   "cell_type": "code",
   "execution_count": 584,
   "metadata": {},
   "outputs": [],
   "source": [
    "import pandas as pd\n",
    "import fnmatch\n",
    "import os"
   ]
  },
  {
   "cell_type": "code",
   "execution_count": 585,
   "metadata": {},
   "outputs": [],
   "source": [
    "# Load Data"
   ]
  },
  {
   "cell_type": "code",
   "execution_count": 586,
   "metadata": {
    "tags": []
   },
   "outputs": [],
   "source": [
    "path = '/Users/matthiashugli/Virtualenvs/youth-base/youth-base/training-analysis/data'\n",
    "\n",
    "data = [os.path.join(dirpath, f) for dirpath, dirnames, files in os.walk(path) for f in fnmatch.filter(files, '*.xlsx')]\n",
    "\n",
    "df = pd.DataFrame()\n",
    "for filename in data:\n",
    "    source = pd.read_excel(filename, sheet_name='s1_core_trm_player_unit_skills', index_col=None, header=1)\n",
    "    source = source.iloc[2:]\n",
    "    source = source.rename(columns=lambda c: c.replace('.1', '.count') if fnmatch.fnmatch(c, '*.1') else c + \".duration\")\n",
    "    source = source.melt(source.columns[0:3])\n",
    "    source[['skills', 'entity']] = source.variable.apply(lambda x: pd.Series(str(x).split('.')))\n",
    "    source = source.drop(columns=['Category Name.duration', 'variable'])\n",
    "    source = source.rename(columns={'Unnamed: 0.duration': 'team', 'Unnamed: 1.duration': 'keeper'})\n",
    "    source = source.pivot(index=['team', 'keeper', 'skills'], columns='entity', values='value').reset_index()\n",
    "    source[['team', 'club']] = source.team.str.split(' BSC', 1, expand=True)\n",
    "    source[['team', 'club']] = source.team.str.split(' YB', 1, expand=True)\n",
    "    source['filename'] = filename\n",
    "    source[['file', 'type']] = source.filename.apply(lambda x: pd.Series(str(x).split('.')))\n",
    "    source['yearmonth'] = source.file.str[-6:]\n",
    "    source['date'] = pd.to_datetime(source.yearmonth, format='%Y%m', errors='coerce').dropna()\n",
    "    source['year'] = pd.DatetimeIndex(source['date']).year\n",
    "    source['month'] = source.date.dt.month_name()\n",
    "    source = source.drop(columns=['filename', 'file', 'type', 'club'])\n",
    "    source = source.dropna(subset=['count', 'duration'])\n",
    "    df = df.append(source)\n",
    "\n",
    "df.to_csv('trainings.csv')\n"
   ]
  }
 ]
}