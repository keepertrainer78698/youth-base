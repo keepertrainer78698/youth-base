{
 "metadata": {
  "language_info": {
   "codemirror_mode": {
    "name": "ipython",
    "version": 3
   },
   "file_extension": ".py",
   "mimetype": "text/x-python",
   "name": "python",
   "nbconvert_exporter": "python",
   "pygments_lexer": "ipython3",
   "version": "3.7.6-final"
  },
  "orig_nbformat": 2,
  "kernelspec": {
   "name": "python3",
   "display_name": "Python 3.7.6 64-bit ('env')",
   "metadata": {
    "interpreter": {
     "hash": "2ee736e6460c18009aceec69817ca5390d5e9860f9b4585979ff241c3f9cb44d"
    }
   }
  }
 },
 "nbformat": 4,
 "nbformat_minor": 2,
 "cells": [
  {
   "cell_type": "code",
   "execution_count": 430,
   "metadata": {},
   "outputs": [],
   "source": [
    "import pandas as pd\n",
    "from matplotlib import pyplot as plt\n",
    "import fnmatch\n",
    "import os\n",
    "import glob"
   ]
  },
  {
   "cell_type": "code",
   "execution_count": 431,
   "metadata": {},
   "outputs": [],
   "source": [
    "# Load Data"
   ]
  },
  {
   "cell_type": "code",
   "execution_count": 452,
   "metadata": {},
   "outputs": [
    {
     "output_type": "error",
     "ename": "FileNotFoundError",
     "evalue": "[Errno 2] No such file or directory: 'THT_Daten_202009.xlsx'",
     "traceback": [
      "\u001b[0;31m---------------------------------------------------------------------------\u001b[0m",
      "\u001b[0;31mFileNotFoundError\u001b[0m                         Traceback (most recent call last)",
      "\u001b[0;32m<ipython-input-452-60e022d43b16>\u001b[0m in \u001b[0;36m<module>\u001b[0;34m\u001b[0m\n\u001b[1;32m      4\u001b[0m \u001b[0mdataframes\u001b[0m \u001b[0;34m=\u001b[0m \u001b[0;34m[\u001b[0m\u001b[0;34m]\u001b[0m\u001b[0;34m\u001b[0m\u001b[0;34m\u001b[0m\u001b[0m\n\u001b[1;32m      5\u001b[0m \u001b[0;32mfor\u001b[0m \u001b[0mfilename\u001b[0m \u001b[0;32min\u001b[0m \u001b[0mdata\u001b[0m\u001b[0;34m:\u001b[0m\u001b[0;34m\u001b[0m\u001b[0;34m\u001b[0m\u001b[0m\n\u001b[0;32m----> 6\u001b[0;31m     \u001b[0mdataframes\u001b[0m \u001b[0;34m=\u001b[0m \u001b[0mpd\u001b[0m\u001b[0;34m.\u001b[0m\u001b[0mread_excel\u001b[0m\u001b[0;34m(\u001b[0m\u001b[0mfilename\u001b[0m\u001b[0;34m)\u001b[0m\u001b[0;34m\u001b[0m\u001b[0;34m\u001b[0m\u001b[0m\n\u001b[0m\u001b[1;32m      7\u001b[0m \u001b[0;34m\u001b[0m\u001b[0m\n\u001b[1;32m      8\u001b[0m \u001b[0;31m#for filename in data:\u001b[0m\u001b[0;34m\u001b[0m\u001b[0;34m\u001b[0m\u001b[0;34m\u001b[0m\u001b[0m\n",
      "\u001b[0;32m~/Virtualenvs/youth-base/env/lib/python3.7/site-packages/pandas/util/_decorators.py\u001b[0m in \u001b[0;36mwrapper\u001b[0;34m(*args, **kwargs)\u001b[0m\n\u001b[1;32m    297\u001b[0m                 )\n\u001b[1;32m    298\u001b[0m                 \u001b[0mwarnings\u001b[0m\u001b[0;34m.\u001b[0m\u001b[0mwarn\u001b[0m\u001b[0;34m(\u001b[0m\u001b[0mmsg\u001b[0m\u001b[0;34m,\u001b[0m \u001b[0mFutureWarning\u001b[0m\u001b[0;34m,\u001b[0m \u001b[0mstacklevel\u001b[0m\u001b[0;34m=\u001b[0m\u001b[0mstacklevel\u001b[0m\u001b[0;34m)\u001b[0m\u001b[0;34m\u001b[0m\u001b[0;34m\u001b[0m\u001b[0m\n\u001b[0;32m--> 299\u001b[0;31m             \u001b[0;32mreturn\u001b[0m \u001b[0mfunc\u001b[0m\u001b[0;34m(\u001b[0m\u001b[0;34m*\u001b[0m\u001b[0margs\u001b[0m\u001b[0;34m,\u001b[0m \u001b[0;34m**\u001b[0m\u001b[0mkwargs\u001b[0m\u001b[0;34m)\u001b[0m\u001b[0;34m\u001b[0m\u001b[0;34m\u001b[0m\u001b[0m\n\u001b[0m\u001b[1;32m    300\u001b[0m \u001b[0;34m\u001b[0m\u001b[0m\n\u001b[1;32m    301\u001b[0m         \u001b[0;32mreturn\u001b[0m \u001b[0mwrapper\u001b[0m\u001b[0;34m\u001b[0m\u001b[0;34m\u001b[0m\u001b[0m\n",
      "\u001b[0;32m~/Virtualenvs/youth-base/env/lib/python3.7/site-packages/pandas/io/excel/_base.py\u001b[0m in \u001b[0;36mread_excel\u001b[0;34m(io, sheet_name, header, names, index_col, usecols, squeeze, dtype, engine, converters, true_values, false_values, skiprows, nrows, na_values, keep_default_na, na_filter, verbose, parse_dates, date_parser, thousands, comment, skipfooter, convert_float, mangle_dupe_cols, storage_options)\u001b[0m\n\u001b[1;32m    334\u001b[0m     \u001b[0;32mif\u001b[0m \u001b[0;32mnot\u001b[0m \u001b[0misinstance\u001b[0m\u001b[0;34m(\u001b[0m\u001b[0mio\u001b[0m\u001b[0;34m,\u001b[0m \u001b[0mExcelFile\u001b[0m\u001b[0;34m)\u001b[0m\u001b[0;34m:\u001b[0m\u001b[0;34m\u001b[0m\u001b[0;34m\u001b[0m\u001b[0m\n\u001b[1;32m    335\u001b[0m         \u001b[0mshould_close\u001b[0m \u001b[0;34m=\u001b[0m \u001b[0;32mTrue\u001b[0m\u001b[0;34m\u001b[0m\u001b[0;34m\u001b[0m\u001b[0m\n\u001b[0;32m--> 336\u001b[0;31m         \u001b[0mio\u001b[0m \u001b[0;34m=\u001b[0m \u001b[0mExcelFile\u001b[0m\u001b[0;34m(\u001b[0m\u001b[0mio\u001b[0m\u001b[0;34m,\u001b[0m \u001b[0mstorage_options\u001b[0m\u001b[0;34m=\u001b[0m\u001b[0mstorage_options\u001b[0m\u001b[0;34m,\u001b[0m \u001b[0mengine\u001b[0m\u001b[0;34m=\u001b[0m\u001b[0mengine\u001b[0m\u001b[0;34m)\u001b[0m\u001b[0;34m\u001b[0m\u001b[0;34m\u001b[0m\u001b[0m\n\u001b[0m\u001b[1;32m    337\u001b[0m     \u001b[0;32melif\u001b[0m \u001b[0mengine\u001b[0m \u001b[0;32mand\u001b[0m \u001b[0mengine\u001b[0m \u001b[0;34m!=\u001b[0m \u001b[0mio\u001b[0m\u001b[0;34m.\u001b[0m\u001b[0mengine\u001b[0m\u001b[0;34m:\u001b[0m\u001b[0;34m\u001b[0m\u001b[0;34m\u001b[0m\u001b[0m\n\u001b[1;32m    338\u001b[0m         raise ValueError(\n",
      "\u001b[0;32m~/Virtualenvs/youth-base/env/lib/python3.7/site-packages/pandas/io/excel/_base.py\u001b[0m in \u001b[0;36m__init__\u001b[0;34m(self, path_or_buffer, engine, storage_options)\u001b[0m\n\u001b[1;32m   1070\u001b[0m             \u001b[0;32melse\u001b[0m\u001b[0;34m:\u001b[0m\u001b[0;34m\u001b[0m\u001b[0;34m\u001b[0m\u001b[0m\n\u001b[1;32m   1071\u001b[0m                 ext = inspect_excel_format(\n\u001b[0;32m-> 1072\u001b[0;31m                     \u001b[0mcontent\u001b[0m\u001b[0;34m=\u001b[0m\u001b[0mpath_or_buffer\u001b[0m\u001b[0;34m,\u001b[0m \u001b[0mstorage_options\u001b[0m\u001b[0;34m=\u001b[0m\u001b[0mstorage_options\u001b[0m\u001b[0;34m\u001b[0m\u001b[0;34m\u001b[0m\u001b[0m\n\u001b[0m\u001b[1;32m   1073\u001b[0m                 )\n\u001b[1;32m   1074\u001b[0m \u001b[0;34m\u001b[0m\u001b[0m\n",
      "\u001b[0;32m~/Virtualenvs/youth-base/env/lib/python3.7/site-packages/pandas/io/excel/_base.py\u001b[0m in \u001b[0;36minspect_excel_format\u001b[0;34m(path, content, storage_options)\u001b[0m\n\u001b[1;32m    948\u001b[0m \u001b[0;34m\u001b[0m\u001b[0m\n\u001b[1;32m    949\u001b[0m     with get_handle(\n\u001b[0;32m--> 950\u001b[0;31m         \u001b[0mcontent_or_path\u001b[0m\u001b[0;34m,\u001b[0m \u001b[0;34m\"rb\"\u001b[0m\u001b[0;34m,\u001b[0m \u001b[0mstorage_options\u001b[0m\u001b[0;34m=\u001b[0m\u001b[0mstorage_options\u001b[0m\u001b[0;34m,\u001b[0m \u001b[0mis_text\u001b[0m\u001b[0;34m=\u001b[0m\u001b[0;32mFalse\u001b[0m\u001b[0;34m\u001b[0m\u001b[0;34m\u001b[0m\u001b[0m\n\u001b[0m\u001b[1;32m    951\u001b[0m     ) as handle:\n\u001b[1;32m    952\u001b[0m         \u001b[0mstream\u001b[0m \u001b[0;34m=\u001b[0m \u001b[0mhandle\u001b[0m\u001b[0;34m.\u001b[0m\u001b[0mhandle\u001b[0m\u001b[0;34m\u001b[0m\u001b[0;34m\u001b[0m\u001b[0m\n",
      "\u001b[0;32m~/Virtualenvs/youth-base/env/lib/python3.7/site-packages/pandas/io/common.py\u001b[0m in \u001b[0;36mget_handle\u001b[0;34m(path_or_buf, mode, encoding, compression, memory_map, is_text, errors, storage_options)\u001b[0m\n\u001b[1;32m    649\u001b[0m         \u001b[0;32melse\u001b[0m\u001b[0;34m:\u001b[0m\u001b[0;34m\u001b[0m\u001b[0;34m\u001b[0m\u001b[0m\n\u001b[1;32m    650\u001b[0m             \u001b[0;31m# Binary mode\u001b[0m\u001b[0;34m\u001b[0m\u001b[0;34m\u001b[0m\u001b[0;34m\u001b[0m\u001b[0m\n\u001b[0;32m--> 651\u001b[0;31m             \u001b[0mhandle\u001b[0m \u001b[0;34m=\u001b[0m \u001b[0mopen\u001b[0m\u001b[0;34m(\u001b[0m\u001b[0mhandle\u001b[0m\u001b[0;34m,\u001b[0m \u001b[0mioargs\u001b[0m\u001b[0;34m.\u001b[0m\u001b[0mmode\u001b[0m\u001b[0;34m)\u001b[0m\u001b[0;34m\u001b[0m\u001b[0;34m\u001b[0m\u001b[0m\n\u001b[0m\u001b[1;32m    652\u001b[0m         \u001b[0mhandles\u001b[0m\u001b[0;34m.\u001b[0m\u001b[0mappend\u001b[0m\u001b[0;34m(\u001b[0m\u001b[0mhandle\u001b[0m\u001b[0;34m)\u001b[0m\u001b[0;34m\u001b[0m\u001b[0;34m\u001b[0m\u001b[0m\n\u001b[1;32m    653\u001b[0m \u001b[0;34m\u001b[0m\u001b[0m\n",
      "\u001b[0;31mFileNotFoundError\u001b[0m: [Errno 2] No such file or directory: 'THT_Daten_202009.xlsx'"
     ]
    }
   ],
   "source": [
    "data = os.listdir(r'/Users/matthiashugli/Virtualenvs/youth-base/youth-base/training-analysis/data')\n",
    "\n",
    "\n",
    "dataframes = []\n",
    "for filename in data:\n",
    "    dataframes = pd.read_excel(filename)\n",
    "\n",
    "#for filename in data:\n",
    "    #df = pd.read_excel(filename, sheet_name='s1_core_trm_player_unit_skills', index_col=None, header=1) "
   ]
  },
  {
   "cell_type": "code",
   "execution_count": 417,
   "metadata": {
    "tags": []
   },
   "outputs": [
    {
     "output_type": "stream",
     "name": "stdout",
     "text": [
      "entity                team       keeper                               skills  \\\n710     U18 BSC Young Boys  Noah Godwin                       OFF: Passspiel   \n711     U18 BSC Young Boys  Noah Godwin             Orientierung des Körpers   \n712     U18 BSC Young Boys  Noah Godwin                 Orientierung im Raum   \n713     U18 BSC Young Boys  Noah Godwin                  Orientierung im Tor   \n714     U18 BSC Young Boys  Noah Godwin                             TA: Back   \n715     U18 BSC Young Boys  Noah Godwin                            TA: Catch   \n716     U18 BSC Young Boys  Noah Godwin                               TA: Go   \n717     U18 BSC Young Boys  Noah Godwin                             TA: Stay   \n718     U18 BSC Young Boys  Noah Godwin                   Umschalten def/off   \n719     U18 BSC Young Boys  Noah Godwin        Umschalten off/def (Raum/Tor)   \n720     U21 BSC Young Boys  Kilian Hari            DEF: Ballfangen am Körper   \n721     U21 BSC Young Boys  Kilian Hari                    KO: Beweglichkeit   \n722     U21 BSC Young Boys  Kilian Hari                            KO: Kraft   \n723     U21 BSC Young Boys  Kilian Hari          KO: Plyometrie/Explosivität   \n724     U21 BSC Young Boys  Kilian Hari                    KO: Schnelligkeit   \n725     U21 BSC Young Boys  Kilian Hari                 KOO: Differenzierung   \n726     U21 BSC Young Boys  Kilian Hari                   KOO: Gleichgewicht   \n727     U21 BSC Young Boys  Kilian Hari       KOO: Orientierung/Infoaufnahme   \n728     U21 BSC Young Boys  Kilian Hari                        KOO: Reaktion   \n729     U21 BSC Young Boys  Kilian Hari  KOO: Rhythmus der Aktion/des Balles   \n730     U21 BSC Young Boys  Kilian Hari   ME: Aggressivität/Entschlossenheit   \n731     U21 BSC Young Boys  Kilian Hari                     ME: Freude/Spass   \n732     U21 BSC Young Boys  Kilian Hari             ME: Frustrationstoleranz   \n733     U21 BSC Young Boys  Kilian Hari        ME: Komplexität/Konzentration   \n734     U21 BSC Young Boys  Kilian Hari         ME: Leadership/Kommunikation   \n735     U21 BSC Young Boys  Kilian Hari                  ME: Selbstvertrauen   \n736     U21 BSC Young Boys  Kilian Hari         ME: Siegermentalität/Ehrgeiz   \n737     U21 BSC Young Boys  Kilian Hari                          OFF: Abwurf   \n738     U21 BSC Young Boys  Kilian Hari                            OFF: Kick   \n739     U21 BSC Young Boys  Kilian Hari                     OFF: Langer Ball   \n740     U21 BSC Young Boys  Kilian Hari                       OFF: Passspiel   \n741     U21 BSC Young Boys  Kilian Hari             Orientierung des Körpers   \n742     U21 BSC Young Boys  Kilian Hari                 Orientierung im Raum   \n743     U21 BSC Young Boys  Kilian Hari                  Orientierung im Tor   \n744     U21 BSC Young Boys  Kilian Hari                             TA: Back   \n745     U21 BSC Young Boys  Kilian Hari                            TA: Catch   \n746     U21 BSC Young Boys  Kilian Hari                               TA: Go   \n747     U21 BSC Young Boys  Kilian Hari                             TA: Stay   \n748     U21 BSC Young Boys  Kilian Hari                   Umschalten def/off   \n749     U21 BSC Young Boys  Kilian Hari        Umschalten off/def (Raum/Tor)   \n\nentity count duration  \n710        2       40  \n711      NaN      NaN  \n712        2       92  \n713        3      182  \n714        1       50  \n715        1       20  \n716        3      132  \n717        3      132  \n718        1       10  \n719        2       90  \n720        1       20  \n721      NaN      NaN  \n722      NaN      NaN  \n723      NaN      NaN  \n724      NaN      NaN  \n725      NaN      NaN  \n726      NaN      NaN  \n727        1       60  \n728      NaN      NaN  \n729        1       60  \n730        1       40  \n731      NaN      NaN  \n732      NaN      NaN  \n733      NaN      NaN  \n734      NaN      NaN  \n735      NaN      NaN  \n736      NaN      NaN  \n737      NaN      NaN  \n738      NaN      NaN  \n739        1        8  \n740      NaN      NaN  \n741      NaN      NaN  \n742        1       40  \n743        1       40  \n744        1       20  \n745        1       40  \n746        1       40  \n747        1       20  \n748        1       20  \n749        1       60  \nIndex(['team', 'keeper', 'skills', 'count', 'duration'], dtype='object', name='entity')\n"
     ]
    }
   ],
   "source": [
    "\n",
    "\n",
    "\n",
    "\n",
    "sept2020 = pd.read_excel('s1_core_trm_player_unit_skills_September2020.xlsx', sheet_name='s1_core_trm_player_unit_skills', index_col=None, header=[1])\n",
    "\n",
    "sept2020 = sept2020.iloc[2:]\n",
    "sept2020 = sept2020.rename(columns=lambda c: c.replace('.1', '.count') if fnmatch.fnmatch(c, '*.1') else c + \".duration\")\n",
    "sept2020 = sept2020.melt(sept2020.columns[0:3])\n",
    "sept2020[['skills', 'entity']] = sept2020.variable.apply(lambda x: pd.Series(str(x).split('.')))\n",
    "sept2020 = sept2020.drop(columns=['Category Name.duration', 'variable'])\n",
    "sept2020 = sept2020.rename(columns={'Unnamed: 0.duration': 'team', 'Unnamed: 1.duration': 'keeper'})\n",
    "\n",
    "sept2020 = sept2020.pivot(index=['team', 'keeper', 'skills'], columns='entity', values='value').reset_index()\n",
    "\n",
    "\n",
    "df = pd.DataFrame(sept2020)\n",
    "\n",
    "print(df.tail(40))\n",
    "print(df.columns)"
   ]
  },
  {
   "cell_type": "code",
   "execution_count": null,
   "metadata": {},
   "outputs": [],
   "source": [
    "input = sept2020.to_dict()\n",
    "\n",
    "output = {}\n",
    "for key, value in input.items():\n",
    "    if fnmatch.fnmatch(key, '*.1'):\n",
    "        key = \"count, \" + key\n",
    "        output[key] = value\n",
    "    else:\n",
    "        key = \"duration, \" + key\n",
    "        output[key] = value\n",
    "\n",
    "\n",
    "result = []\n",
    "for key, value in output.items():\n",
    "    new_dict = {}\n",
    "    for k, v in value.items():\n",
    "        if k != 0:\n",
    "            new_dict['title'] = key\n",
    "            new_dict[k] = v\n",
    "    result.append(new_dict)\n",
    "\n",
    "df = pd.DataFrame.from_dict(result)\n",
    "df.to_csv('melt.csv')input = sept2020.to_dict()"
   ]
  },
  {
   "cell_type": "code",
   "execution_count": null,
   "metadata": {},
   "outputs": [],
   "source": [
    "melt_sept2020 = sept2020.melt(sept2020.columns[0:3]).reset_index()\n",
    "\n",
    "print(melt_sept2020.head(5))"
   ]
  },
  {
   "cell_type": "code",
   "execution_count": null,
   "metadata": {
    "tags": []
   },
   "outputs": [],
   "source": [
    "## Source Files added all month\n",
    "### year 2020\n",
    "sept2020 = pd.read_excel('s1_core_trm_player_unit_skills_September2020.xlsx', sheet_name='s1_core_trm_player_unit_skills', index_col=None, header=1)\n",
    "\n",
    "### year 2021\n",
    "feb2021 = pd.read_excel('THT_Daten_Februar_2021.xlsx', sheet_name='s1_core_trm_player_unit_skills', index_col=None, header=1)\n",
    "\n",
    "### Create one single dataframe with raw data\n",
    "df = pd.concat([sept2020, feb2021])\n",
    "print(df.head())"
   ]
  },
  {
   "cell_type": "code",
   "execution_count": null,
   "metadata": {},
   "outputs": [],
   "source": [
    "# Transform Data"
   ]
  },
  {
   "cell_type": "code",
   "execution_count": null,
   "metadata": {
    "tags": []
   },
   "outputs": [],
   "source": [
    "df_melt = df.melt(df.columns[0:3])\n",
    "dropping_rows = df_melt['variable'].str.contains('*.1')\n",
    "\n",
    "\n"
   ]
  },
  {
   "cell_type": "code",
   "execution_count": null,
   "metadata": {},
   "outputs": [],
   "source": [
    "dropping_rows = df_melt['variable'].str.contains('*.1')\n",
    "#df_melt.drop(dropping_rows, inplace = True)\n"
   ]
  },
  {
   "cell_type": "code",
   "execution_count": null,
   "metadata": {},
   "outputs": [],
   "source": [
    "print(df.columns[2])"
   ]
  },
  {
   "cell_type": "code",
   "execution_count": null,
   "metadata": {},
   "outputs": [],
   "source": [
    "#df = df.drop(df.columns[2], axis=1, inplace=True)"
   ]
  },
  {
   "cell_type": "code",
   "execution_count": null,
   "metadata": {},
   "outputs": [],
   "source": [
    "print(df.head(5))"
   ]
  },
  {
   "cell_type": "code",
   "execution_count": null,
   "metadata": {},
   "outputs": [],
   "source": [
    "df = (df.set_index([df.columns[0], df.columns[1]])\n",
    ".stack()\n",
    ".reset_index())\n",
    "\n",
    "df.columns = ['team', 'keeper', 'topic', 'duration']\n",
    "df.to_csv('trainingsminuten_transposed.csv')"
   ]
  },
  {
   "cell_type": "code",
   "execution_count": null,
   "metadata": {},
   "outputs": [],
   "source": [
    "print(df.tail(50))"
   ]
  },
  {
   "cell_type": "code",
   "execution_count": null,
   "metadata": {},
   "outputs": [],
   "source": []
  }
 ]
}