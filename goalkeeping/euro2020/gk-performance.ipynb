{
    "cells": [
        {
            "cell_type": "code",
            "execution_count": 2,
            "source": [
                "import pandas as pd\n",
                "\n",
                "import fnmatch\n",
                "import glob\n",
                "import dropbox as db"
            ],
            "outputs": [],
            "metadata": {}
        },
        {
            "cell_type": "markdown",
            "source": [
                "# Import Files from Dropbox Connection"
            ],
            "metadata": {}
        },
        {
            "cell_type": "code",
            "execution_count": 3,
            "source": [
                "!ln -s /Users/matthiashugli/Virtualenvs/youth-base/youth-base/config.py config.py\n",
                "from config import dbx_token\n",
                "dbx = db.Dropbox(dbx_token)\n",
                "\n",
                "path = '/Users/matthiashugli/Dropbox/bucket/euro2020/*.csv'\n",
                "# suisse_path = '/Users/matthiashugli/Dropbox/bucket/euro2020/raw-suisse-shots-against.csv'\n",
                "\n",
                "df = pd.DataFrame()\n",
                "for filename in glob.glob(path):\n",
                "    #print(filename)\n",
                "    file = pd.read_csv(filename, header=0, delimiter=',', low_memory=False)\n",
                "    file.insert(0, 'filename', filename)\n",
                "    df = df.append(file)\n",
                "\n",
                "# suisse_df = pd.DataFrame()\n",
                "# for filename in glob.glob(sommer_path):\n",
                "#     #print(filename)\n",
                "#     file = pd.read_csv(filename, header=1, delimiter=',', low_memory=False)\n",
                "#     file.insert(0, 'filename', filename)\n",
                "#     suisse_df = suisse_df.append(file)"
            ],
            "outputs": [
                {
                    "output_type": "stream",
                    "name": "stdout",
                    "text": [
                        "ln: config.py: File exists\n"
                    ]
                },
                {
                    "output_type": "stream",
                    "name": "stderr",
                    "text": [
                        "/usr/local/anaconda3/lib/python3.7/site-packages/psycopg2/__init__.py:144: UserWarning: The psycopg2 wheel package will be renamed from release 2.8; in order to keep installing from binary please use \"pip install psycopg2-binary\" instead. For details see: <http://initd.org/psycopg/docs/install.html#binary-install-from-pypi>.\n",
                        "  \"\"\")\n"
                    ]
                }
            ],
            "metadata": {}
        },
        {
            "cell_type": "code",
            "execution_count": 4,
            "source": [
                "df[['source', 'file']] = df.filename.apply(lambda x: pd.Series(str(x).split('raw-')))\n",
                "df[['goalkeeper', 'split6']] = df.file.apply(lambda x: pd.Series(str(x).split('.csv')))\n",
                "df = df.drop(columns=['source', 'file', 'split6'])\n",
                "print(df.head(5))"
            ],
            "outputs": [
                {
                    "output_type": "stream",
                    "name": "stdout",
                    "text": [
                        "                                            filename        Date  Day  \\\n",
                        "0  /Users/matthiashugli/Dropbox/bucket/euro2020/r...  2021-06-15  Tue   \n",
                        "1  /Users/matthiashugli/Dropbox/bucket/euro2020/r...  2021-06-19  Sat   \n",
                        "2  /Users/matthiashugli/Dropbox/bucket/euro2020/r...  2021-06-23  Wed   \n",
                        "3  /Users/matthiashugli/Dropbox/bucket/euro2020/r...  2021-06-28  Mon   \n",
                        "0  /Users/matthiashugli/Dropbox/bucket/euro2020/r...  2021-06-14  Mon   \n",
                        "\n",
                        "         Round    Venue         Result              Squad        Opponent  \\\n",
                        "0  Group stage  Neutral          W 1–0          fr France      de Germany   \n",
                        "1  Group stage  Neutral          D 1–1          fr France      hu Hungary   \n",
                        "2  Group stage  Neutral          D 2–2          fr France     pt Portugal   \n",
                        "3  Round of 16  Neutral  D 3 (4)–3 (5)          fr France  ch Switzerland   \n",
                        "0  Group stage  Neutral          W 2–0  cz Czech Republic    sct Scotland   \n",
                        "\n",
                        "  Start Pos  ...  Att.2  Launch%.1  AvgLen.1  Opp  Stp  Stp%  #OPA  AvgDist  \\\n",
                        "0    Y*  GK  ...     12       83.3      55.3   18    1   5.6     0      8.0   \n",
                        "1    Y*  GK  ...      3        0.0      12.7    3    0   0.0     1     19.3   \n",
                        "2    Y*  GK  ...      8       12.5      16.8    7    0   0.0     1     19.0   \n",
                        "3    Y*  GK  ...      6       66.7      46.0    6    1  16.7     1     16.5   \n",
                        "0     Y  GK  ...      6      100.0      69.8   15    0   0.0     1     15.3   \n",
                        "\n",
                        "   Match Report  goalkeeper  \n",
                        "0  Match Report       loris  \n",
                        "1  Match Report       loris  \n",
                        "2  Match Report       loris  \n",
                        "3  Match Report       loris  \n",
                        "0  Match Report      vaclik  \n",
                        "\n",
                        "[5 rows x 38 columns]\n"
                    ]
                }
            ],
            "metadata": {}
        },
        {
            "cell_type": "code",
            "execution_count": 8,
            "source": [
                "xSaves = df.loc[:, ('goalkeeper', 'PSxG', 'Saves', 'SoTA', 'GA', 'PKsv')]\n",
                "xSaves['shots_faced'] = xSaves['GA'] + xSaves['Saves'] + xSaves['PKsv']\n",
                "xSaves['Saves%'] = ( xSaves['Saves'] + xSaves['PKsv'] ) / xSaves['shots_faced']\n",
                "xSaves['xS'] = xSaves['shots_faced'] - xSaves['PSxG']\n",
                "xSaves['xS%'] = xSaves['xS'] / xSaves['shots_faced']"
            ],
            "outputs": [],
            "metadata": {}
        },
        {
            "cell_type": "code",
            "execution_count": 15,
            "source": [
                "gk_xSaves = xSaves.groupby('goalkeeper').agg({'GA': 'sum', 'Saves': 'sum', 'PKsv': 'sum', 'shots_faced': 'sum', 'SoTA': 'sum', 'PSxG': 'sum', 'xS': 'sum' })\n",
                "gk_xSaves['xS%'] = gk_xSaves.xS / gk_xSaves.shots_faced\n",
                "gk_xSaves['Saves%'] = ( gk_xSaves.Saves + gk_xSaves.PKsv ) / gk_xSaves.shots_faced\n",
                "gk_xSaves['xS%2'] = gk_xSaves.xS / gk_xSaves.SoTA\n",
                "gk_xSaves['Saves%2'] = gk_xSaves.Saves / gk_xSaves.SoTA\n",
                "gk_xSaves['shot_performance'] = gk_xSaves['Saves%'] - gk_xSaves['xS%']\n",
                "gk_xSaves['PSxG/SoTA'] = gk_xSaves['PSxG'] / gk_xSaves.SoTA\n",
                "print(gk_xSaves)"
            ],
            "outputs": [
                {
                    "output_type": "stream",
                    "name": "stdout",
                    "text": [
                        "            GA  Saves  PKsv  shots_faced  SoTA  PSxG    xS       xS%  \\\n",
                        "goalkeeper                                                             \n",
                        "dommarumma   4      9     0           13    12   5.6   7.4  0.569231   \n",
                        "loris        6      7     1           14    11   5.1   8.9  0.635714   \n",
                        "neuer        7      4     0           11    10   4.8   6.2  0.563636   \n",
                        "olsen        4     11     0           15    15   4.0  11.0  0.733333   \n",
                        "patricio     7     10     0           17    15   5.0  12.0  0.705882   \n",
                        "pickford     2     14     0           16    17   2.6  13.4  0.837500   \n",
                        "schmeichel   7     16     1           24    21   7.2  16.8  0.700000   \n",
                        "sommer       9     22     0           31    30   8.9  22.1  0.712903   \n",
                        "vaclik       4     11     0           15    16   5.4   9.6  0.640000   \n",
                        "\n",
                        "              Saves%      xS%2   Saves%2  shot_performance  PSxG/SoTA  \n",
                        "goalkeeper                                                             \n",
                        "dommarumma  0.692308  0.616667  0.750000          0.123077   0.466667  \n",
                        "loris       0.571429  0.809091  0.636364         -0.064286   0.463636  \n",
                        "neuer       0.363636  0.620000  0.400000         -0.200000   0.480000  \n",
                        "olsen       0.733333  0.733333  0.733333          0.000000   0.266667  \n",
                        "patricio    0.588235  0.800000  0.666667         -0.117647   0.333333  \n",
                        "pickford    0.875000  0.788235  0.823529          0.037500   0.152941  \n",
                        "schmeichel  0.708333  0.800000  0.761905          0.008333   0.342857  \n",
                        "sommer      0.709677  0.736667  0.733333         -0.003226   0.296667  \n",
                        "vaclik      0.733333  0.600000  0.687500          0.093333   0.337500  \n"
                    ]
                }
            ],
            "metadata": {}
        },
        {
            "cell_type": "code",
            "execution_count": null,
            "source": [],
            "outputs": [],
            "metadata": {}
        }
    ],
    "metadata": {
        "orig_nbformat": 4,
        "language_info": {
            "name": "python",
            "version": "3.7.6",
            "mimetype": "text/x-python",
            "codemirror_mode": {
                "name": "ipython",
                "version": 3
            },
            "pygments_lexer": "ipython3",
            "nbconvert_exporter": "python",
            "file_extension": ".py"
        },
        "kernelspec": {
            "name": "python3",
            "display_name": "Python 3.7.6 64-bit ('base': conda)"
        },
        "interpreter": {
            "hash": "e134e05457d34029b6460cd73bbf1ed73f339b5b6d98c95be70b69eba114fe95"
        }
    },
    "nbformat": 4,
    "nbformat_minor": 2
}