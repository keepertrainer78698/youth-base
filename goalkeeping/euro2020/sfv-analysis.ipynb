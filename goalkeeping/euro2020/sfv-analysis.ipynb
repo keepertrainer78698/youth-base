{
    "cells": [
        {
            "cell_type": "code",
            "execution_count": 1,
            "source": [
                "import pandas as pd\n",
                "import numpy as np\n",
                "import dropbox as db"
            ],
            "outputs": [],
            "metadata": {}
        },
        {
            "cell_type": "markdown",
            "source": [
                "# SFV EM 2020 File Import"
            ],
            "metadata": {}
        },
        {
            "cell_type": "code",
            "execution_count": 2,
            "source": [
                "!ln -s /Users/matthiashugli/Virtualenvs/youth-base/youth-base/config.py config.py\n",
                "from config import dbx_token\n",
                "dbx = db.Dropbox(dbx_token)\n",
                "\n",
                "filename = '/Users/matthiashugli/Dropbox/bucket/euro2020/raw-analyse-sfv.csv'\n",
                "\n",
                "df = pd.DataFrame()\n",
                "file = pd.read_csv(filename, header=3, delimiter=',', low_memory=False)\n",
                "df = df.append(file)"
            ],
            "outputs": [
                {
                    "output_type": "stream",
                    "name": "stdout",
                    "text": [
                        "ln: config.py: File exists\n"
                    ]
                },
                {
                    "output_type": "stream",
                    "name": "stderr",
                    "text": [
                        "/usr/local/anaconda3/lib/python3.7/site-packages/psycopg2/__init__.py:144: UserWarning: The psycopg2 wheel package will be renamed from release 2.8; in order to keep installing from binary please use \"pip install psycopg2-binary\" instead. For details see: <http://initd.org/psycopg/docs/install.html#binary-install-from-pypi>.\n",
                        "  \"\"\")\n"
                    ]
                }
            ],
            "metadata": {}
        },
        {
            "cell_type": "code",
            "execution_count": 3,
            "source": [
                "df.drop(df.columns[0], axis=1, inplace=True)\n",
                "df.loc[len(df.index)] = df.iloc[1]"
            ],
            "outputs": [],
            "metadata": {}
        },
        {
            "cell_type": "code",
            "execution_count": 4,
            "source": [
                "\n",
                "# Create and Clean Header\n",
                "## Need to promote header afterwards\n",
                "df.columns = df.columns.str.strip().str.lower().str.replace(' ','_')\n",
                "\n",
                "# 6 standards, 7 standards_no, 12 indirekter_freistoss, 20 nahdistanzzone, 27 should_catch, should_go, should_back, should_stay, 50 technik_falsch\n",
                "typos = {'standarts': 'standards', 'unnamed:_8': 'standards_no', 'ndirekter_freistoss': 'indirekter_freistoss', 'nahdistanzzpone': 'nahdistanzzone', \n",
                "'wenn_falsch_cgbs': 'should_catch', 'unnamed:_29': 'should_go', 'unnamed:_30': 'should_back', 'unnamed:_31': 'should_stay', 'unnamed:_51': 'technik_falsch', '': '',}\n",
                "\n",
                "df.rename(columns=typos, inplace=True)\n",
                "df.drop([0], inplace=True)"
            ],
            "outputs": [],
            "metadata": {}
        },
        {
            "cell_type": "code",
            "execution_count": 5,
            "source": [
                "col_event_infos = df.columns[0:6].tolist()\n",
                "col_type_standard = df.columns[8:14].tolist()\n",
                "col_spielsituation = df.columns[14:21].tolist()\n",
                "col_verhalten = df.columns[21:31].tolist()\n",
                "col_technik = df.columns[31:51].tolist()\n",
                "col_tore = df.columns[51:57].tolist()\n",
                "\n",
                "print(df.columns[6])"
            ],
            "outputs": [
                {
                    "output_type": "stream",
                    "name": "stdout",
                    "text": [
                        "standards\n"
                    ]
                }
            ],
            "metadata": {}
        },
        {
            "cell_type": "code",
            "execution_count": 6,
            "source": [
                "df.standards_no[df[df.columns[6]].isna() & df[df.columns[7]].isna() & df[df.columns[8]].isna() & df[df.columns[9]].isna() & df[df.columns[10]].isna() & df[df.columns[11]].isna() & df[df.columns[12]].isna() & df[df.columns[13]].isna()] = '1'\n",
                "\n",
                "df.loc[df.standards == '1', 'ist_standard'] = 'ja'\n",
                "df.loc[df.standards_no == '1', 'ist_standard'] = 'nein'\n",
                "\n",
                "df = df.drop(columns=['standards', 'standards_no'])\n",
                "standard_column = df.pop('ist_standard')\n",
                "df.insert(6, 'ist_standard', standard_column)\n",
                "\n",
                "### Cleansing Verhalten\n",
                "df.loc[df.richtig == '1', 'korrektes_verhalten'] = 'ja'\n",
                "df.loc[df.falsch == '1', 'korrektes_verhalten'] = 'nein'\n",
                "\n",
                "df = df.drop(columns=['richtig', 'falsch'])\n",
                "verhalten_column = df.pop('korrektes_verhalten')\n",
                "df.insert(7, 'korrektes_verhalten', verhalten_column)\n",
                "\n",
                "### Cleansing Technik\n",
                "df.loc[df.technik_falsch == '1', 'korrekte_technik'] = 'ja'\n",
                "df.loc[df.technik_korrekt == '1', 'korrekte_technik'] = 'nein'\n",
                "\n",
                "df = df.drop(columns=['technik_falsch', 'technik_korrekt'])\n",
                "technik_column = df.pop('korrekte_technik')\n",
                "df.insert(8, 'korrekte_technik', technik_column)"
            ],
            "outputs": [],
            "metadata": {}
        },
        {
            "cell_type": "code",
            "execution_count": 7,
            "source": [
                "### Unpivot Augang der Situation (Tor, kein Tor etc.)\n",
                "unpivot = pd.melt(df, id_vars=df.columns[:45].tolist(), value_vars=df.columns[48:].tolist(), var_name='outcome', value_name='value_outcome')\n",
                "unpivot.dropna(subset=['value_outcome'], inplace=True)\n",
                "unpivot.drop(columns='value_outcome', inplace=True)\n",
                "\n",
                "outcome_column = unpivot.pop('outcome')\n",
                "unpivot.insert(9, 'outcome', outcome_column)\n",
                "unpivot.reset_index(inplace=True)\n",
                "\n",
                "### Unpivot ausführende Technik\n",
                "#unpivot = pd.melt(unpivot, id_vars=unpivot.columns[:31].tolist(), value_vars=unpivot.columns[31:].tolist(), var_name='technik', value_name='value_technik')\n",
                "#unpivot.dropna(subset=['value_technik'], inplace=True)\n",
                "#unpivot.drop(columns='value_technik', inplace=True)\n",
                "\n",
                "#outcome_column = unpivot.pop('technik')\n",
                "#unpivot.insert(10, 'technik', outcome_column)\n",
                "\n",
                "print(unpivot.dtypes)"
            ],
            "outputs": [
                {
                    "output_type": "stream",
                    "name": "stdout",
                    "text": [
                        "index                           int64\n",
                        "spielcode                      object\n",
                        "th_name                        object\n",
                        "team                           object\n",
                        "paarung                        object\n",
                        "minuten                        object\n",
                        "topszene                       object\n",
                        "ist_standard                   object\n",
                        "korrektes_verhalten            object\n",
                        "korrekte_technik               object\n",
                        "outcome                        object\n",
                        "seitlicher_freistoss           object\n",
                        "eckball                        object\n",
                        "penalty                        object\n",
                        "direkter_freistoss             object\n",
                        "indirekter_freistoss           object\n",
                        "einwurf                        object\n",
                        "ball_durch_den_16er            object\n",
                        "hoher_ball                     object\n",
                        "pass_in_die_tiefe              object\n",
                        "rückpass_vor_der_grundlinie    object\n",
                        "rote_zone                      object\n",
                        "distanzschuss                  object\n",
                        "nahdistanzzone                 object\n",
                        "catch                          object\n",
                        "go                             object\n",
                        "stay                           object\n",
                        "back                           object\n",
                        "should_catch                   object\n",
                        "should_go                      object\n",
                        "should_back                    object\n",
                        "should_stay                    object\n",
                        "ballfangen                     object\n",
                        "lenken_ohne_hecht              object\n",
                        "hecht_stand                    object\n",
                        "beinweg                        object\n",
                        "hecht_1_schritt                object\n",
                        "hecht_side_step                object\n",
                        "hecht_laufend                  object\n",
                        "block                          object\n",
                        "kleine_kreuz                   object\n",
                        "grosse_kreuz                   object\n",
                        "ballangriff                    object\n",
                        "ballangriff_kontrast           object\n",
                        "reaktion_fuss                  object\n",
                        "reaktion_hand                  object\n",
                        "hohe_ball_fangen               object\n",
                        "dtype: object\n"
                    ]
                }
            ],
            "metadata": {}
        },
        {
            "cell_type": "code",
            "execution_count": 9,
            "source": [
                "for index, row in unpivot.iterrows():\n",
                "    for x in row.iloc[1, :]:\n",
                "        print(x)"
            ],
            "outputs": [
                {
                    "output_type": "error",
                    "ename": "IndexingError",
                    "evalue": "Too many indexers",
                    "traceback": [
                        "\u001b[0;31m---------------------------------------------------------------------------\u001b[0m",
                        "\u001b[0;31mIndexingError\u001b[0m                             Traceback (most recent call last)",
                        "\u001b[0;32m<ipython-input-9-10998110b7be>\u001b[0m in \u001b[0;36m<module>\u001b[0;34m\u001b[0m\n\u001b[1;32m      1\u001b[0m \u001b[0;32mfor\u001b[0m \u001b[0mindex\u001b[0m\u001b[0;34m,\u001b[0m \u001b[0mrow\u001b[0m \u001b[0;32min\u001b[0m \u001b[0munpivot\u001b[0m\u001b[0;34m.\u001b[0m\u001b[0miterrows\u001b[0m\u001b[0;34m(\u001b[0m\u001b[0;34m)\u001b[0m\u001b[0;34m:\u001b[0m\u001b[0;34m\u001b[0m\u001b[0;34m\u001b[0m\u001b[0m\n\u001b[0;32m----> 2\u001b[0;31m     \u001b[0;32mfor\u001b[0m \u001b[0mx\u001b[0m \u001b[0;32min\u001b[0m \u001b[0mrow\u001b[0m\u001b[0;34m.\u001b[0m\u001b[0miloc\u001b[0m\u001b[0;34m[\u001b[0m\u001b[0;36m1\u001b[0m\u001b[0;34m,\u001b[0m \u001b[0;34m:\u001b[0m\u001b[0;34m]\u001b[0m\u001b[0;34m:\u001b[0m\u001b[0;34m\u001b[0m\u001b[0;34m\u001b[0m\u001b[0m\n\u001b[0m\u001b[1;32m      3\u001b[0m         \u001b[0mprint\u001b[0m\u001b[0;34m(\u001b[0m\u001b[0mx\u001b[0m\u001b[0;34m)\u001b[0m\u001b[0;34m\u001b[0m\u001b[0;34m\u001b[0m\u001b[0m\n",
                        "\u001b[0;32m/usr/local/anaconda3/lib/python3.7/site-packages/pandas/core/indexing.py\u001b[0m in \u001b[0;36m__getitem__\u001b[0;34m(self, key)\u001b[0m\n\u001b[1;32m    887\u001b[0m                     \u001b[0;31m# AttributeError for IntervalTree get_value\u001b[0m\u001b[0;34m\u001b[0m\u001b[0;34m\u001b[0m\u001b[0;34m\u001b[0m\u001b[0m\n\u001b[1;32m    888\u001b[0m                     \u001b[0;32mreturn\u001b[0m \u001b[0mself\u001b[0m\u001b[0;34m.\u001b[0m\u001b[0mobj\u001b[0m\u001b[0;34m.\u001b[0m\u001b[0m_get_value\u001b[0m\u001b[0;34m(\u001b[0m\u001b[0;34m*\u001b[0m\u001b[0mkey\u001b[0m\u001b[0;34m,\u001b[0m \u001b[0mtakeable\u001b[0m\u001b[0;34m=\u001b[0m\u001b[0mself\u001b[0m\u001b[0;34m.\u001b[0m\u001b[0m_takeable\u001b[0m\u001b[0;34m)\u001b[0m\u001b[0;34m\u001b[0m\u001b[0;34m\u001b[0m\u001b[0m\n\u001b[0;32m--> 889\u001b[0;31m             \u001b[0;32mreturn\u001b[0m \u001b[0mself\u001b[0m\u001b[0;34m.\u001b[0m\u001b[0m_getitem_tuple\u001b[0m\u001b[0;34m(\u001b[0m\u001b[0mkey\u001b[0m\u001b[0;34m)\u001b[0m\u001b[0;34m\u001b[0m\u001b[0;34m\u001b[0m\u001b[0m\n\u001b[0m\u001b[1;32m    890\u001b[0m         \u001b[0;32melse\u001b[0m\u001b[0;34m:\u001b[0m\u001b[0;34m\u001b[0m\u001b[0;34m\u001b[0m\u001b[0m\n\u001b[1;32m    891\u001b[0m             \u001b[0;31m# we by definition only have the 0th axis\u001b[0m\u001b[0;34m\u001b[0m\u001b[0;34m\u001b[0m\u001b[0;34m\u001b[0m\u001b[0m\n",
                        "\u001b[0;32m/usr/local/anaconda3/lib/python3.7/site-packages/pandas/core/indexing.py\u001b[0m in \u001b[0;36m_getitem_tuple\u001b[0;34m(self, tup)\u001b[0m\n\u001b[1;32m   1448\u001b[0m     \u001b[0;32mdef\u001b[0m \u001b[0m_getitem_tuple\u001b[0m\u001b[0;34m(\u001b[0m\u001b[0mself\u001b[0m\u001b[0;34m,\u001b[0m \u001b[0mtup\u001b[0m\u001b[0;34m:\u001b[0m \u001b[0mTuple\u001b[0m\u001b[0;34m)\u001b[0m\u001b[0;34m:\u001b[0m\u001b[0;34m\u001b[0m\u001b[0;34m\u001b[0m\u001b[0m\n\u001b[1;32m   1449\u001b[0m \u001b[0;34m\u001b[0m\u001b[0m\n\u001b[0;32m-> 1450\u001b[0;31m         \u001b[0mself\u001b[0m\u001b[0;34m.\u001b[0m\u001b[0m_has_valid_tuple\u001b[0m\u001b[0;34m(\u001b[0m\u001b[0mtup\u001b[0m\u001b[0;34m)\u001b[0m\u001b[0;34m\u001b[0m\u001b[0;34m\u001b[0m\u001b[0m\n\u001b[0m\u001b[1;32m   1451\u001b[0m         \u001b[0;32mwith\u001b[0m \u001b[0msuppress\u001b[0m\u001b[0;34m(\u001b[0m\u001b[0mIndexingError\u001b[0m\u001b[0;34m)\u001b[0m\u001b[0;34m:\u001b[0m\u001b[0;34m\u001b[0m\u001b[0;34m\u001b[0m\u001b[0m\n\u001b[1;32m   1452\u001b[0m             \u001b[0;32mreturn\u001b[0m \u001b[0mself\u001b[0m\u001b[0;34m.\u001b[0m\u001b[0m_getitem_lowerdim\u001b[0m\u001b[0;34m(\u001b[0m\u001b[0mtup\u001b[0m\u001b[0;34m)\u001b[0m\u001b[0;34m\u001b[0m\u001b[0;34m\u001b[0m\u001b[0m\n",
                        "\u001b[0;32m/usr/local/anaconda3/lib/python3.7/site-packages/pandas/core/indexing.py\u001b[0m in \u001b[0;36m_has_valid_tuple\u001b[0;34m(self, key)\u001b[0m\n\u001b[1;32m    718\u001b[0m         \u001b[0mCheck\u001b[0m \u001b[0mthe\u001b[0m \u001b[0mkey\u001b[0m \u001b[0;32mfor\u001b[0m \u001b[0mvalid\u001b[0m \u001b[0mkeys\u001b[0m \u001b[0macross\u001b[0m \u001b[0mmy\u001b[0m \u001b[0mindexer\u001b[0m\u001b[0;34m.\u001b[0m\u001b[0;34m\u001b[0m\u001b[0;34m\u001b[0m\u001b[0m\n\u001b[1;32m    719\u001b[0m         \"\"\"\n\u001b[0;32m--> 720\u001b[0;31m         \u001b[0mself\u001b[0m\u001b[0;34m.\u001b[0m\u001b[0m_validate_key_length\u001b[0m\u001b[0;34m(\u001b[0m\u001b[0mkey\u001b[0m\u001b[0;34m)\u001b[0m\u001b[0;34m\u001b[0m\u001b[0;34m\u001b[0m\u001b[0m\n\u001b[0m\u001b[1;32m    721\u001b[0m         \u001b[0;32mfor\u001b[0m \u001b[0mi\u001b[0m\u001b[0;34m,\u001b[0m \u001b[0mk\u001b[0m \u001b[0;32min\u001b[0m \u001b[0menumerate\u001b[0m\u001b[0;34m(\u001b[0m\u001b[0mkey\u001b[0m\u001b[0;34m)\u001b[0m\u001b[0;34m:\u001b[0m\u001b[0;34m\u001b[0m\u001b[0;34m\u001b[0m\u001b[0m\n\u001b[1;32m    722\u001b[0m             \u001b[0;32mtry\u001b[0m\u001b[0;34m:\u001b[0m\u001b[0;34m\u001b[0m\u001b[0;34m\u001b[0m\u001b[0m\n",
                        "\u001b[0;32m/usr/local/anaconda3/lib/python3.7/site-packages/pandas/core/indexing.py\u001b[0m in \u001b[0;36m_validate_key_length\u001b[0;34m(self, key)\u001b[0m\n\u001b[1;32m    759\u001b[0m     \u001b[0;32mdef\u001b[0m \u001b[0m_validate_key_length\u001b[0m\u001b[0;34m(\u001b[0m\u001b[0mself\u001b[0m\u001b[0;34m,\u001b[0m \u001b[0mkey\u001b[0m\u001b[0;34m:\u001b[0m \u001b[0mSequence\u001b[0m\u001b[0;34m[\u001b[0m\u001b[0mAny\u001b[0m\u001b[0;34m]\u001b[0m\u001b[0;34m)\u001b[0m \u001b[0;34m->\u001b[0m \u001b[0;32mNone\u001b[0m\u001b[0;34m:\u001b[0m\u001b[0;34m\u001b[0m\u001b[0;34m\u001b[0m\u001b[0m\n\u001b[1;32m    760\u001b[0m         \u001b[0;32mif\u001b[0m \u001b[0mlen\u001b[0m\u001b[0;34m(\u001b[0m\u001b[0mkey\u001b[0m\u001b[0;34m)\u001b[0m \u001b[0;34m>\u001b[0m \u001b[0mself\u001b[0m\u001b[0;34m.\u001b[0m\u001b[0mndim\u001b[0m\u001b[0;34m:\u001b[0m\u001b[0;34m\u001b[0m\u001b[0;34m\u001b[0m\u001b[0m\n\u001b[0;32m--> 761\u001b[0;31m             \u001b[0;32mraise\u001b[0m \u001b[0mIndexingError\u001b[0m\u001b[0;34m(\u001b[0m\u001b[0;34m\"Too many indexers\"\u001b[0m\u001b[0;34m)\u001b[0m\u001b[0;34m\u001b[0m\u001b[0;34m\u001b[0m\u001b[0m\n\u001b[0m\u001b[1;32m    762\u001b[0m \u001b[0;34m\u001b[0m\u001b[0m\n\u001b[1;32m    763\u001b[0m     \u001b[0;32mdef\u001b[0m \u001b[0m_getitem_tuple_same_dim\u001b[0m\u001b[0;34m(\u001b[0m\u001b[0mself\u001b[0m\u001b[0;34m,\u001b[0m \u001b[0mtup\u001b[0m\u001b[0;34m:\u001b[0m \u001b[0mTuple\u001b[0m\u001b[0;34m)\u001b[0m\u001b[0;34m:\u001b[0m\u001b[0;34m\u001b[0m\u001b[0;34m\u001b[0m\u001b[0m\n",
                        "\u001b[0;31mIndexingError\u001b[0m: Too many indexers"
                    ]
                }
            ],
            "metadata": {}
        },
        {
            "cell_type": "code",
            "execution_count": 129,
            "source": [
                "#unpivot.iloc[:, 31:] = unpivot.iloc[:, 31:].replace(np.nan, 0)\n",
                "#unpivot.iloc[:, 31:] = unpivot.iloc[:, 31:].replace('1', 1)\n",
                "unpivot.iloc[:, 31:] = unpivot.iloc[:, 31:].astype(str)\n",
                "\n",
                "#result = []\n",
                "#for v in unpivot.iloc[:5, 31:]:\n",
                "#  print(v)\n",
                "#  print(unpivot[v].values == 1)\n",
                "  #for x in unpivot[v].values:\n",
                "      \n",
                "\n",
                "#print(result)\n",
                "\n",
                "#unpivot['te_returned'] = result\n",
                "result = []\n",
                "x = 32\n",
                "for data in unpivot.iloc[:2, x:]:\n",
                "  #if x < 38:\n",
                "  columns = unpivot[data]\n",
                "  print(data)\n",
                "  print(columns.values)\n",
                "  for v in columns.values:\n",
                "    if v == '1':\n",
                "      result.append(data)\n",
                "    else:\n",
                "      result.append('nan')\n",
                "  x += 1\n",
                "\n",
                "\n",
                "  \n",
                "  \n",
                "print(len(result))\n",
                "#print(result)\n",
                "\n",
                "#unpivot['te_returned'] = result\n",
                "#print(unpivot.iloc[:20, 32:])\n",
                "  \n",
                "#print((unpivot == 1).iloc[:5, 31:])\n"
            ],
            "outputs": [
                {
                    "output_type": "stream",
                    "name": "stdout",
                    "text": [
                        "ballfangen\n",
                        "['nan' 'nan' 'nan' ... 'nan' 'nan' 'nan']\n",
                        "lenken_ohne_hecht\n",
                        "['nan' 'nan' 'nan' ... 'nan' 'nan' 'nan']\n",
                        "hecht_stand\n",
                        "['nan' '1' 'nan' ... 'nan' '1' 'nan']\n",
                        "beinweg\n",
                        "['nan' 'nan' 'nan' ... 'nan' 'nan' 'nan']\n",
                        "hecht_1_schritt\n",
                        "['nan' 'nan' 'nan' ... 'nan' 'nan' 'nan']\n",
                        "hecht_side_step\n",
                        "['nan' 'nan' 'nan' ... 'nan' 'nan' 'nan']\n",
                        "hecht_laufend\n",
                        "['nan' 'nan' 'nan' ... 'nan' 'nan' 'nan']\n",
                        "block\n",
                        "['nan' 'nan' 'nan' ... 'nan' 'nan' 'nan']\n",
                        "kleine_kreuz\n",
                        "['nan' 'nan' 'nan' ... 'nan' 'nan' 'nan']\n",
                        "grosse_kreuz\n",
                        "['nan' 'nan' 'nan' ... 'nan' 'nan' 'nan']\n",
                        "ballangriff\n",
                        "['nan' 'nan' 'nan' ... 'nan' 'nan' 'nan']\n",
                        "ballangriff_kontrast\n",
                        "['nan' 'nan' 'nan' ... 'nan' 'nan' 'nan']\n",
                        "reaktion_fuss\n",
                        "['nan' 'nan' 'nan' ... 'nan' 'nan' 'nan']\n",
                        "reaktion_hand\n",
                        "['nan' 'nan' 'nan' ... 'nan' 'nan' 'nan']\n",
                        "hohe_ball_fangen\n",
                        "['nan' 'nan' 'nan' ... 'nan' 'nan' 'nan']\n",
                        "te_returned\n",
                        "['nan' 'nan' 'nan' ... 'nan' 'nan' 'nan']\n",
                        "58000\n"
                    ]
                }
            ],
            "metadata": {}
        },
        {
            "cell_type": "code",
            "execution_count": 77,
            "source": [
                "unpivot = pd.melt(unpivot, id_vars=df.columns[:30].tolist(), value_vars=df.columns[])"
            ],
            "outputs": [
                {
                    "output_type": "error",
                    "ename": "SyntaxError",
                    "evalue": "invalid syntax (<ipython-input-77-fb82ac65d625>, line 1)",
                    "traceback": [
                        "\u001b[0;36m  File \u001b[0;32m\"<ipython-input-77-fb82ac65d625>\"\u001b[0;36m, line \u001b[0;32m1\u001b[0m\n\u001b[0;31m    unpivot = pd.melt(unpivot, id_vars=df.columns[:30].tolist(), value_vars=df.columns[])\u001b[0m\n\u001b[0m                                                                                       ^\u001b[0m\n\u001b[0;31mSyntaxError\u001b[0m\u001b[0;31m:\u001b[0m invalid syntax\n"
                    ]
                }
            ],
            "metadata": {}
        },
        {
            "cell_type": "code",
            "execution_count": 110,
            "source": [
                "df.loc[df.standards == '1', 'ist_standards'] = 'ja'\n",
                "df.loc[df.standards_no == '1', 'ist_standards'] = 'nein'\n",
                "\n",
                "df.loc[df.richtig == '1', 'korrektes_verhalten'] = 'ja'\n",
                "df.loc[df.falsch == '1', 'korrektes_verhalten'] = 'nein'\n",
                "\n",
                "df.loc[df.technik_falsch == '1', 'korrekte_technik'] = 'ja'\n",
                "df.loc[df.technik_korrekt == '1', 'korrekte_technik'] = 'nein'\n",
                "\n",
                "print(df.head(5))"
            ],
            "outputs": [
                {
                    "output_type": "stream",
                    "name": "stdout",
                    "text": [
                        "  spielcode            th_name    team  paarung minuten topszene standards  \\\n",
                        "1        VR  TUR Ugurcan Cakir  Türkei  Italien    2'09      NaN       NaN   \n",
                        "2        VR  TUR Ugurcan Cakir  Türkei  Italien    3'50      NaN       NaN   \n",
                        "3        VR  TUR Ugurcan Cakir  Türkei  Italien    6'49      NaN       NaN   \n",
                        "4        VR  TUR Ugurcan Cakir  Türkei  Italien   13'26      NaN       NaN   \n",
                        "5        VR  TUR Ugurcan Cakir  Türkei  Italien   14'02      NaN       NaN   \n",
                        "\n",
                        "  standards_no seitlicher_freistoss eckball  ... technik_falsch tor_erhalten  \\\n",
                        "1            1                  NaN     NaN  ...            NaN          NaN   \n",
                        "2            1                  NaN     NaN  ...            NaN          NaN   \n",
                        "3            1                  NaN     NaN  ...            NaN          NaN   \n",
                        "4            1                  NaN     NaN  ...            NaN          NaN   \n",
                        "5            1                  NaN     NaN  ...            NaN          NaN   \n",
                        "\n",
                        "  kein_tor_gehalten kein_tor_daneben kein_tor_geblockt verteidiger_klärt  \\\n",
                        "1               NaN                1               NaN               NaN   \n",
                        "2                 1              NaN               NaN               NaN   \n",
                        "3                 1              NaN               NaN               NaN   \n",
                        "4               NaN              NaN                 1               NaN   \n",
                        "5               NaN              NaN               NaN                 1   \n",
                        "\n",
                        "  keine_aktion ist_standards korrektes_verhalten korrekte_technik  \n",
                        "1          NaN          nein                  ja             nein  \n",
                        "2          NaN          nein                  ja             nein  \n",
                        "3          NaN          nein                  ja             nein  \n",
                        "4          NaN          nein                  ja             nein  \n",
                        "5          NaN          nein                  ja              NaN  \n",
                        "\n",
                        "[5 rows x 60 columns]\n"
                    ]
                }
            ],
            "metadata": {}
        },
        {
            "cell_type": "code",
            "execution_count": null,
            "source": [],
            "outputs": [],
            "metadata": {}
        }
    ],
    "metadata": {
        "orig_nbformat": 4,
        "language_info": {
            "name": "python",
            "version": "3.7.6",
            "mimetype": "text/x-python",
            "codemirror_mode": {
                "name": "ipython",
                "version": 3
            },
            "pygments_lexer": "ipython3",
            "nbconvert_exporter": "python",
            "file_extension": ".py"
        },
        "kernelspec": {
            "name": "python3",
            "display_name": "Python 3.7.6 64-bit ('base': conda)"
        },
        "interpreter": {
            "hash": "e134e05457d34029b6460cd73bbf1ed73f339b5b6d98c95be70b69eba114fe95"
        }
    },
    "nbformat": 4,
    "nbformat_minor": 2
}