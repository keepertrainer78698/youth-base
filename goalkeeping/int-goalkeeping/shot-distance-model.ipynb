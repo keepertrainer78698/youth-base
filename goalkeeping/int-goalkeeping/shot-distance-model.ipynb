{
 "cells": [
  {
   "cell_type": "code",
   "execution_count": 51,
   "metadata": {},
   "outputs": [],
   "source": [
    "import pandas as pd\n",
    "import numpy as np\n",
    "import seaborn as sns\n",
    "import datatransformation as data"
   ]
  },
  {
   "cell_type": "code",
   "execution_count": 75,
   "metadata": {},
   "outputs": [],
   "source": [
    "events = data.GetStatsbombData().get_event_files('Champions League')"
   ]
  },
  {
   "cell_type": "code",
   "execution_count": 102,
   "metadata": {},
   "outputs": [],
   "source": [
    "\n",
    "class ShotDistance:\n",
    "    def create_gk_shot_dataframe(df):\n",
    "        gk_df = df[df['event_name'] == 'Goal Keeper']\n",
    "        shot_df = df[df['event_name'] == 'Shot']\n",
    "        shot_id = shot_df[['id', 'related_events']].explode('related_events').dropna(subset=['related_events'])\n",
    "\n",
    "        merge_gk = shot_id.merge(gk_df[['id', 'event_name', 'goalkeeper', 'location']], how='left', left_on='related_events', right_on='id') \\\n",
    "                    .dropna() \\\n",
    "                        .drop(columns=['id_y']) \\\n",
    "                            .merge(shot_df[['id', 'minute', 'second', 'event_name', 'shot', 'location']], how='left', left_on='id_x', right_on='id')\n",
    "\n",
    "        gk_exp = merge_gk['goalkeeper'].apply(pd.Series)[['outcome', 'type', 'position', 'technique', 'body_part']]\n",
    "        shot_exp = merge_gk['shot'].apply(pd.Series)[['outcome', 'type', 'technique', 'body_part']]\n",
    "\n",
    "        merge_df = pd.DataFrame()\n",
    "        for column in gk_exp:\n",
    "            exp_col = pd.concat([gk_exp.drop([column], axis=1), gk_exp[column].apply(pd.Series)], axis=1).rename(columns={'name': 'gk_' + column}).drop(['id'], axis=1)\n",
    "            merge_df = pd.concat([merge_df, exp_col['gk_' + column]], axis=1)\n",
    "\n",
    "\n",
    "        for column in shot_exp:\n",
    "            exp_col = pd.concat([shot_exp.drop([column], axis=1), shot_exp[column].apply(pd.Series)], axis=1).rename(columns={'name': 'shot_' + column}).drop(['id'], axis=1)\n",
    "            merge_df = pd.concat([merge_df, exp_col['shot_' + column]], axis=1)\n",
    "\n",
    "        gk_shots = pd.concat([merge_gk.drop(['goalkeeper', 'shot'], axis=1), merge_df, merge_gk['shot'].apply(pd.Series)[['statsbomb_xg', 'one_on_one']]], axis=1)\n",
    "\n",
    "        return gk_shots\n",
    "\n",
    "    def create_shot_model(df):\n",
    "        shot_model = df.loc[(df['gk_type'].isin(['Goal Conceded', 'Shot Saved'])) \\\n",
    "                & (df['shot_type'] == 'Open Play') \\\n",
    "                    & (df['gk_position'] != 'Prone')] \\\n",
    "                        [['id', 'location_x', 'location_y', 'gk_type', 'gk_technique', 'shot_outcome', 'shot_technique', 'shot_body_part', 'statsbomb_xg']]\\\n",
    "                            .reset_index()\n",
    "        shot_model['gk_pos_x'] = [i[1] for i in shot_model['location_x']]\n",
    "        shot_model['gk_pos_x'] = 80 - shot_model['gk_pos_x']\n",
    "        shot_model['gk_pos_y'] = [i[0] for i in shot_model['location_x']]\n",
    "        shot_model['gk_pos_y'] = 120 - shot_model['gk_pos_y']\n",
    "        shot_model['shot_pos_x'] = [i[1] for i in shot_model['location_y']] # Pitch Rotation transforms y to x value\n",
    "        shot_model['shot_pos_y'] = [i[0] for i in shot_model['location_y']] # Pitch Rotation transforms x to y value\n",
    "\n",
    "        temp_df = pd.DataFrame()\n",
    "        for i in range(len(shot_model)):\n",
    "            # GK Distance to Shot\n",
    "            gk_dis = pd.Series(np.hypot([int(shot_model['gk_pos_x'][i]) - int(shot_model['shot_pos_x'][i])], \\\n",
    "                                        [int(shot_model['gk_pos_y'][i]) - int(shot_model['shot_pos_y'][i])])[0], name='gk_dis').astype(int)\n",
    "            # # Shot Distance to Goal Line\n",
    "            shot_dis_gl = pd.Series(np.hypot([40 - int(shot_model['shot_pos_x'][i])], \\\n",
    "                                            [120 - int(shot_model['shot_pos_y'][i])])[0], name='shot_dis_gl').astype(int)\n",
    "            # # Angle of the Shot from the Goal Line\n",
    "            shot_angle = np.rad2deg(np.arccos([40 - int(shot_model['shot_pos_x'][i])] / shot_dis_gl)).astype(int)\n",
    "            shot_angle = [x - 90 if x > 90 else x for x in shot_angle][0]\n",
    "            shot_angle = pd.Series(shot_angle, name='shot_angle')\n",
    "\n",
    "            temp_df = pd.concat([temp_df, pd.concat([gk_dis*0.9, shot_dis_gl*0.9, shot_angle], axis=1)])\n",
    "\n",
    "\n",
    "        shot_model = pd.concat([shot_model, temp_df.reset_index()], axis=1)                        \n",
    "        \n",
    "        return shot_model[['gk_type', 'gk_technique', 'shot_body_part', 'statsbomb_xg', 'gk_dis', 'shot_dis_gl', 'shot_angle']]"
   ]
  },
  {
   "cell_type": "code",
   "execution_count": 103,
   "metadata": {},
   "outputs": [],
   "source": [
    "gk_shots = ShotDistance.create_gk_shot_dataframe(events)\n",
    "shot_model = ShotDistance.create_shot_model(gk_shots)"
   ]
  },
  {
   "cell_type": "code",
   "execution_count": 80,
   "metadata": {},
   "outputs": [
    {
     "data": {
      "text/html": [
       "<div>\n",
       "<style scoped>\n",
       "    .dataframe tbody tr th:only-of-type {\n",
       "        vertical-align: middle;\n",
       "    }\n",
       "\n",
       "    .dataframe tbody tr th {\n",
       "        vertical-align: top;\n",
       "    }\n",
       "\n",
       "    .dataframe thead th {\n",
       "        text-align: right;\n",
       "    }\n",
       "</style>\n",
       "<table border=\"1\" class=\"dataframe\">\n",
       "  <thead>\n",
       "    <tr style=\"text-align: right;\">\n",
       "      <th></th>\n",
       "      <th>statsbomb_xg</th>\n",
       "      <th>gk_dis</th>\n",
       "      <th>shot_dis_gl</th>\n",
       "      <th>shot_angle</th>\n",
       "    </tr>\n",
       "  </thead>\n",
       "  <tbody>\n",
       "    <tr>\n",
       "      <th>count</th>\n",
       "      <td>130.000000</td>\n",
       "      <td>130.000000</td>\n",
       "      <td>130.000000</td>\n",
       "      <td>130.000000</td>\n",
       "    </tr>\n",
       "    <tr>\n",
       "      <th>mean</th>\n",
       "      <td>0.135259</td>\n",
       "      <td>12.939231</td>\n",
       "      <td>16.123846</td>\n",
       "      <td>48.123077</td>\n",
       "    </tr>\n",
       "    <tr>\n",
       "      <th>std</th>\n",
       "      <td>0.153001</td>\n",
       "      <td>8.585281</td>\n",
       "      <td>8.162960</td>\n",
       "      <td>26.099397</td>\n",
       "    </tr>\n",
       "    <tr>\n",
       "      <th>min</th>\n",
       "      <td>0.008989</td>\n",
       "      <td>0.900000</td>\n",
       "      <td>2.700000</td>\n",
       "      <td>2.000000</td>\n",
       "    </tr>\n",
       "    <tr>\n",
       "      <th>25%</th>\n",
       "      <td>0.029622</td>\n",
       "      <td>6.300000</td>\n",
       "      <td>10.800000</td>\n",
       "      <td>25.000000</td>\n",
       "    </tr>\n",
       "    <tr>\n",
       "      <th>50%</th>\n",
       "      <td>0.063548</td>\n",
       "      <td>11.700000</td>\n",
       "      <td>14.400000</td>\n",
       "      <td>52.000000</td>\n",
       "    </tr>\n",
       "    <tr>\n",
       "      <th>75%</th>\n",
       "      <td>0.202387</td>\n",
       "      <td>19.575000</td>\n",
       "      <td>21.600000</td>\n",
       "      <td>68.000000</td>\n",
       "    </tr>\n",
       "    <tr>\n",
       "      <th>max</th>\n",
       "      <td>0.768034</td>\n",
       "      <td>55.800000</td>\n",
       "      <td>57.600000</td>\n",
       "      <td>90.000000</td>\n",
       "    </tr>\n",
       "  </tbody>\n",
       "</table>\n",
       "</div>"
      ],
      "text/plain": [
       "       statsbomb_xg      gk_dis  shot_dis_gl  shot_angle\n",
       "count    130.000000  130.000000   130.000000  130.000000\n",
       "mean       0.135259   12.939231    16.123846   48.123077\n",
       "std        0.153001    8.585281     8.162960   26.099397\n",
       "min        0.008989    0.900000     2.700000    2.000000\n",
       "25%        0.029622    6.300000    10.800000   25.000000\n",
       "50%        0.063548   11.700000    14.400000   52.000000\n",
       "75%        0.202387   19.575000    21.600000   68.000000\n",
       "max        0.768034   55.800000    57.600000   90.000000"
      ]
     },
     "execution_count": 80,
     "metadata": {},
     "output_type": "execute_result"
    }
   ],
   "source": [
    "shot_model.describe()"
   ]
  },
  {
   "cell_type": "code",
   "execution_count": 86,
   "metadata": {},
   "outputs": [
    {
     "data": {
      "text/html": [
       "<div>\n",
       "<style scoped>\n",
       "    .dataframe tbody tr th:only-of-type {\n",
       "        vertical-align: middle;\n",
       "    }\n",
       "\n",
       "    .dataframe tbody tr th {\n",
       "        vertical-align: top;\n",
       "    }\n",
       "\n",
       "    .dataframe thead th {\n",
       "        text-align: right;\n",
       "    }\n",
       "</style>\n",
       "<table border=\"1\" class=\"dataframe\">\n",
       "  <thead>\n",
       "    <tr style=\"text-align: right;\">\n",
       "      <th></th>\n",
       "      <th>gk_type</th>\n",
       "      <th>gk_technique</th>\n",
       "      <th>shot_body_part</th>\n",
       "      <th>statsbomb_xg</th>\n",
       "      <th>gk_dis</th>\n",
       "      <th>shot_dis_gl</th>\n",
       "      <th>shot_angle</th>\n",
       "    </tr>\n",
       "  </thead>\n",
       "  <tbody>\n",
       "    <tr>\n",
       "      <th>90</th>\n",
       "      <td>Shot Saved</td>\n",
       "      <td>Standing</td>\n",
       "      <td>Right Foot</td>\n",
       "      <td>0.019080</td>\n",
       "      <td>55.8</td>\n",
       "      <td>57.6</td>\n",
       "      <td>90</td>\n",
       "    </tr>\n",
       "    <tr>\n",
       "      <th>17</th>\n",
       "      <td>Shot Saved</td>\n",
       "      <td>Standing</td>\n",
       "      <td>Right Foot</td>\n",
       "      <td>0.009500</td>\n",
       "      <td>33.3</td>\n",
       "      <td>34.2</td>\n",
       "      <td>21</td>\n",
       "    </tr>\n",
       "    <tr>\n",
       "      <th>104</th>\n",
       "      <td>Shot Saved</td>\n",
       "      <td>Standing</td>\n",
       "      <td>Right Foot</td>\n",
       "      <td>0.027525</td>\n",
       "      <td>27.0</td>\n",
       "      <td>33.3</td>\n",
       "      <td>25</td>\n",
       "    </tr>\n",
       "    <tr>\n",
       "      <th>47</th>\n",
       "      <td>Shot Saved</td>\n",
       "      <td>Standing</td>\n",
       "      <td>Right Foot</td>\n",
       "      <td>0.008989</td>\n",
       "      <td>27.9</td>\n",
       "      <td>30.6</td>\n",
       "      <td>88</td>\n",
       "    </tr>\n",
       "    <tr>\n",
       "      <th>57</th>\n",
       "      <td>Goal Conceded</td>\n",
       "      <td>Standing</td>\n",
       "      <td>Left Foot</td>\n",
       "      <td>0.013965</td>\n",
       "      <td>28.8</td>\n",
       "      <td>30.6</td>\n",
       "      <td>31</td>\n",
       "    </tr>\n",
       "  </tbody>\n",
       "</table>\n",
       "</div>"
      ],
      "text/plain": [
       "           gk_type gk_technique shot_body_part  statsbomb_xg  gk_dis  \\\n",
       "90      Shot Saved     Standing     Right Foot      0.019080    55.8   \n",
       "17      Shot Saved     Standing     Right Foot      0.009500    33.3   \n",
       "104     Shot Saved     Standing     Right Foot      0.027525    27.0   \n",
       "47      Shot Saved     Standing     Right Foot      0.008989    27.9   \n",
       "57   Goal Conceded     Standing      Left Foot      0.013965    28.8   \n",
       "\n",
       "     shot_dis_gl  shot_angle  \n",
       "90          57.6          90  \n",
       "17          34.2          21  \n",
       "104         33.3          25  \n",
       "47          30.6          88  \n",
       "57          30.6          31  "
      ]
     },
     "execution_count": 86,
     "metadata": {},
     "output_type": "execute_result"
    }
   ],
   "source": [
    "shot_model.sort_values('shot_dis_gl', ascending=False).head()"
   ]
  },
  {
   "cell_type": "code",
   "execution_count": 84,
   "metadata": {},
   "outputs": [
    {
     "data": {
      "text/plain": [
       "<AxesSubplot:xlabel='gk_dis', ylabel='Count'>"
      ]
     },
     "execution_count": 84,
     "metadata": {},
     "output_type": "execute_result"
    },
    {
     "data": {
      "image/png": "[encoded data removed]",
      "text/plain": [
       "<Figure size 432x288 with 1 Axes>"
      ]
     },
     "metadata": {
      "needs_background": "light"
     },
     "output_type": "display_data"
    }
   ],
   "source": [
    "goal = shot_model[shot_model['gk_type'] == 'Goal Conceded']\n",
    "saves = shot_model[shot_model['gk_type'] == 'Shot Saved']\n",
    "# sns.histplot(data=shot_model, x='gk_dis', stat='count')\n",
    "sns.histplot(data=shot_model, x='gk_dis', stat='count', kde=True, hue='gk_type', bins=40)"
   ]
  },
  {
   "cell_type": "code",
   "execution_count": 71,
   "metadata": {},
   "outputs": [
    {
     "data": {
      "text/plain": [
       "<AxesSubplot:xlabel='gk_dis', ylabel='Probability'>"
      ]
     },
     "execution_count": 71,
     "metadata": {},
     "output_type": "execute_result"
    },
    {
     "data": {
      "image/png": "[encoded data removed]",
      "text/plain": [
       "<Figure size 432x288 with 1 Axes>"
      ]
     },
     "metadata": {
      "needs_background": "light"
     },
     "output_type": "display_data"
    }
   ],
   "source": [
    "sns.histplot(data=saves, x='gk_dis', stat='probability', kde=True)"
   ]
  },
  {
   "cell_type": "code",
   "execution_count": null,
   "metadata": {},
   "outputs": [],
   "source": []
  }
 ],
 "metadata": {
  "interpreter": {
   "hash": "3067ead486e059ec00ffe7555bdb889e6e264a24dc711bf108106cc7baee8d5d"
  },
  "kernelspec": {
   "display_name": "Python 3.7.6 ('base')",
   "language": "python",
   "name": "python3"
  },
  "language_info": {
   "codemirror_mode": {
    "name": "ipython",
    "version": 3
   },
   "file_extension": ".py",
   "mimetype": "text/x-python",
   "name": "python",
   "nbconvert_exporter": "python",
   "pygments_lexer": "ipython3",
   "version": "3.7.6"
  },
  "orig_nbformat": 4
 },
 "nbformat": 4,
 "nbformat_minor": 2
}
