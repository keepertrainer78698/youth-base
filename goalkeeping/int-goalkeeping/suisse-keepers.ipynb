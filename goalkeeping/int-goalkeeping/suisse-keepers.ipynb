{
    "cells": [
        {
            "cell_type": "code",
            "execution_count": 1,
            "source": [
                "import pandas as pd\n",
                "\n",
                "import fnmatch\n",
                "import glob\n",
                "import dropbox as db"
            ],
            "outputs": [],
            "metadata": {}
        },
        {
            "cell_type": "code",
            "execution_count": 23,
            "source": [
                "!ln -s /Users/matthiashugli/Virtualenvs/youth-base/youth-base/config.py config.py\n",
                "from config import dbx_token\n",
                "dbx = db.Dropbox(dbx_token)\n",
                "\n",
                "path = '/Users/matthiashugli/Dropbox/bucket/suisse-keepers/*.csv'\n",
                "\n",
                "df = pd.DataFrame()\n",
                "for filename in glob.glob(path):\n",
                "    file = pd.read_csv(filename, header=0, delimiter=',', low_memory=False)\n",
                "    df = df.append(file)"
            ],
            "outputs": [
                {
                    "output_type": "stream",
                    "name": "stdout",
                    "text": [
                        "ln: config.py: File exists\n"
                    ]
                }
            ],
            "metadata": {}
        },
        {
            "cell_type": "markdown",
            "source": [
                "# Data Preparation"
            ],
            "metadata": {}
        },
        {
            "cell_type": "markdown",
            "source": [
                "## Data Cleansing"
            ],
            "metadata": {}
        },
        {
            "cell_type": "code",
            "execution_count": 27,
            "source": [
                "df = df.dropna(how='all')\n",
                "print(df.describe)"
            ],
            "outputs": [
                {
                    "output_type": "stream",
                    "name": "stdout",
                    "text": [
                        "<bound method NDFrame.describe of           Date  Day         Round Venue Result    Squad         Opponent  \\\n",
                        "0   2020-09-13  Sun   Matchweek 1  Away  W 1–0  Everton        Tottenham   \n",
                        "1   2020-09-19  Sat   Matchweek 2  Home  W 5–2  Everton        West Brom   \n",
                        "2   2020-09-26  Sat   Matchweek 3  Away  W 2–1  Everton   Crystal Palace   \n",
                        "3   2020-10-03  Sat   Matchweek 4  Home  W 4–2  Everton         Brighton   \n",
                        "4   2020-10-17  Sat   Matchweek 5  Home  D 2–2  Everton        Liverpool   \n",
                        "5   2020-10-25  Sun   Matchweek 6  Away  L 0–2  Everton      Southampton   \n",
                        "6   2020-11-07  Sat   Matchweek 8  Home  L 1–3  Everton   Manchester Utd   \n",
                        "7   2020-11-22  Sun   Matchweek 9  Away  W 3–2  Everton           Fulham   \n",
                        "8   2020-11-28  Sat  Matchweek 10  Home  L 0–1  Everton     Leeds United   \n",
                        "9   2020-12-05  Sat  Matchweek 11  Away  D 1–1  Everton          Burnley   \n",
                        "10  2020-12-12  Sat  Matchweek 12  Home  W 1–0  Everton          Chelsea   \n",
                        "11  2020-12-19  Sat  Matchweek 14  Home  W 2–1  Everton          Arsenal   \n",
                        "12  2020-12-26  Sat  Matchweek 15  Away  W 1–0  Everton    Sheffield Utd   \n",
                        "13  2021-01-01  Fri  Matchweek 17  Home  L 0–1  Everton         West Ham   \n",
                        "14  2021-01-12  Tue  Matchweek 18  Away  W 2–1  Everton           Wolves   \n",
                        "15  2021-01-27  Wed  Matchweek 20  Home  D 1–1  Everton   Leicester City   \n",
                        "16  2021-01-30  Sat  Matchweek 21  Home  L 0–2  Everton    Newcastle Utd   \n",
                        "18  2021-02-17  Wed  Matchweek 16  Home  L 1–3  Everton  Manchester City   \n",
                        "19  2021-02-20  Sat  Matchweek 25  Away  W 2–0  Everton        Liverpool   \n",
                        "20  2021-03-01  Mon  Matchweek 26  Home  W 1–0  Everton      Southampton   \n",
                        "21  2021-03-04  Thu  Matchweek 29  Away  W 1–0  Everton        West Brom   \n",
                        "22  2021-03-08  Mon  Matchweek 27  Away  L 0–2  Everton          Chelsea   \n",
                        "23  2021-03-13  Sat  Matchweek 28  Home  L 1–2  Everton          Burnley   \n",
                        "25  2021-04-16  Fri  Matchweek 32  Home  D 2–2  Everton        Tottenham   \n",
                        "26  2021-04-23  Fri  Matchweek 33  Away  W 1–0  Everton          Arsenal   \n",
                        "27  2021-05-01  Sat  Matchweek 34  Home  L 1–2  Everton      Aston Villa   \n",
                        "28  2021-05-09  Sun  Matchweek 35  Away  W 1–0  Everton         West Ham   \n",
                        "29  2021-05-13  Thu  Matchweek 19  Away  D 0–0  Everton      Aston Villa   \n",
                        "30  2021-05-16  Sun  Matchweek 36  Home  L 0–1  Everton    Sheffield Utd   \n",
                        "31  2021-05-19  Wed  Matchweek 37  Home  W 1–0  Everton           Wolves   \n",
                        "32  2021-05-23  Sun  Matchweek 38  Away  L 0–5  Everton  Manchester City   \n",
                        "\n",
                        "   Start Pos   Min  ...  AvgLen  Att.2  Launch%.1  AvgLen.1   Opp  Stp  Stp%  \\\n",
                        "0      Y  GK  90.0  ...    52.9    4.0       50.0      45.8  12.0  1.0   8.3   \n",
                        "1      Y  GK  90.0  ...    25.3    5.0       20.0      30.0   3.0  0.0   0.0   \n",
                        "2      Y  GK  90.0  ...    40.5    7.0       85.7      64.7  11.0  1.0   9.1   \n",
                        "3      Y  GK  90.0  ...    41.2    8.0       50.0      46.3  12.0  2.0  16.7   \n",
                        "4      Y  GK  90.0  ...    54.2   13.0      100.0      77.5  10.0  0.0   0.0   \n",
                        "5      Y  GK  90.0  ...    32.2    6.0        0.0      22.2   5.0  0.0   0.0   \n",
                        "6      Y  GK  90.0  ...    36.5    6.0       66.7      51.3   4.0  0.0   0.0   \n",
                        "7      Y  GK  90.0  ...    50.6    4.0       75.0      53.5  10.0  0.0   0.0   \n",
                        "8      Y  GK  90.0  ...    45.3    7.0       71.4      56.3   6.0  1.0  16.7   \n",
                        "9      Y  GK  90.0  ...    39.9    3.0      100.0      82.3  11.0  1.0   9.1   \n",
                        "10     Y  GK  90.0  ...    61.7    6.0      100.0      69.8  13.0  0.0   0.0   \n",
                        "11     Y  GK  90.0  ...    59.0   13.0       84.6      63.5   7.0  1.0  14.3   \n",
                        "12     Y  GK  90.0  ...    44.9    5.0      100.0      65.6   8.0  2.0  25.0   \n",
                        "13     Y  GK  90.0  ...    34.9    6.0       50.0      39.3  10.0  1.0  10.0   \n",
                        "14     Y  GK  90.0  ...    27.6    8.0       50.0      39.5  12.0  1.0   8.3   \n",
                        "15     Y  GK  90.0  ...    46.3    9.0       44.4      42.8  12.0  2.0  16.7   \n",
                        "16     Y  GK  90.0  ...    42.1    4.0        0.0       9.5  13.0  0.0   0.0   \n",
                        "18     Y  GK  90.0  ...    51.6   11.0       81.8      60.7   8.0  0.0   0.0   \n",
                        "19     Y  GK  90.0  ...    68.3   11.0      100.0      81.9   9.0  2.0  22.2   \n",
                        "20     Y  GK  90.0  ...    40.1    7.0       85.7      63.1   6.0  0.0   0.0   \n",
                        "21     Y  GK  90.0  ...    41.5    4.0       50.0      48.5  13.0  1.0   7.7   \n",
                        "22     Y  GK  90.0  ...    42.6    6.0       50.0      39.7   4.0  1.0  25.0   \n",
                        "23     Y  GK  42.0  ...    37.7    3.0       66.7      61.3   4.0  1.0  25.0   \n",
                        "25     Y  GK  90.0  ...    37.8    6.0       83.3      62.2   7.0  0.0   0.0   \n",
                        "26     Y  GK  90.0  ...    36.6    5.0       80.0      58.8  13.0  0.0   0.0   \n",
                        "27     Y  GK  90.0  ...    41.5    5.0       60.0      48.6   5.0  2.0  40.0   \n",
                        "28     Y  GK  90.0  ...    50.7    8.0      100.0      73.5  27.0  1.0   3.7   \n",
                        "29     Y  GK  90.0  ...    43.7   11.0       72.7      61.3  10.0  0.0   0.0   \n",
                        "30     Y  GK  90.0  ...    39.2    4.0       25.0      35.0   6.0  0.0   0.0   \n",
                        "31     Y  GK  90.0  ...    43.7    7.0       85.7      67.3  17.0  3.0  17.6   \n",
                        "32     Y  GK  90.0  ...    49.1    5.0       80.0      54.0   7.0  0.0   0.0   \n",
                        "\n",
                        "    #OPA  AvgDist  Match Report  \n",
                        "0    0.0     12.6  Match Report  \n",
                        "1    0.0     19.0  Match Report  \n",
                        "2    1.0     13.7  Match Report  \n",
                        "3    0.0     10.9  Match Report  \n",
                        "4    0.0     12.6  Match Report  \n",
                        "5    0.0      9.0  Match Report  \n",
                        "6    1.0     14.9  Match Report  \n",
                        "7    0.0     13.6  Match Report  \n",
                        "8    3.0     16.5  Match Report  \n",
                        "9    2.0     19.0  Match Report  \n",
                        "10   0.0      9.9  Match Report  \n",
                        "11   0.0     16.3  Match Report  \n",
                        "12   0.0     12.8  Match Report  \n",
                        "13   2.0     17.2  Match Report  \n",
                        "14   0.0     15.0  Match Report  \n",
                        "15   0.0      7.0  Match Report  \n",
                        "16   0.0     15.0  Match Report  \n",
                        "18   2.0     13.7  Match Report  \n",
                        "19   0.0     17.5  Match Report  \n",
                        "20   0.0      7.8  Match Report  \n",
                        "21   0.0     12.0  Match Report  \n",
                        "22   0.0     17.0  Match Report  \n",
                        "23   0.0     14.0  Match Report  \n",
                        "25   0.0     14.0  Match Report  \n",
                        "26   1.0     15.3  Match Report  \n",
                        "27   3.0     22.9  Match Report  \n",
                        "28   0.0     12.2  Match Report  \n",
                        "29   0.0     15.4  Match Report  \n",
                        "30   3.0     20.5  Match Report  \n",
                        "31   1.0     17.8  Match Report  \n",
                        "32   0.0     12.0  Match Report  \n",
                        "\n",
                        "[31 rows x 36 columns]>\n"
                    ]
                }
            ],
            "metadata": {}
        },
        {
            "cell_type": "code",
            "execution_count": 28,
            "source": [
                "file.insert(0, 'filename', filename)"
            ],
            "outputs": [],
            "metadata": {}
        },
        {
            "cell_type": "code",
            "execution_count": 38,
            "source": [
                "x_saves = df.loc[:, ('Saves', 'SoTA', 'GA', 'PSxG', 'Squad')]\n",
                "x_saves['Saves%'] = x_saves['Saves'] / x_saves['SoTA']\n",
                "x_saves['xS'] = x_saves['SoTA'] - x_saves['PSxG']\n",
                "x_saves['xS%'] = x_saves['xS'] / x_saves['SoTA']\n",
                "print(x_saves.head(5))"
            ],
            "outputs": [
                {
                    "output_type": "stream",
                    "name": "stdout",
                    "text": [
                        "   Saves  SoTA   GA  PSxG    Squad    Saves%   xS     xS%\n",
                        "0    5.0   5.0  0.0   0.6  Everton  1.000000  4.4  0.8800\n",
                        "1    2.0   4.0  2.0   0.5  Everton  0.500000  3.5  0.8750\n",
                        "2    0.0   1.0  1.0   0.7  Everton  0.000000  0.3  0.3000\n",
                        "3    1.0   3.0  2.0   1.2  Everton  0.333333  1.8  0.6000\n",
                        "4    6.0   8.0  2.0   2.7  Everton  0.750000  5.3  0.6625\n"
                    ]
                }
            ],
            "metadata": {}
        },
        {
            "cell_type": "code",
            "execution_count": 40,
            "source": [
                "group_xsaves = x_saves.groupby('Squad').agg({'Saves': 'sum', 'xS': 'sum', 'SoTA': 'sum', 'PSxG': 'sum', 'GA': 'sum'})\n",
                "group_xsaves['xS%'] = group_xsaves.xS / group_xsaves.SoTA\n",
                "group_xsaves['saves%'] = group_xsaves.Saves / group_xsaves.SoTA\n",
                "group_xsaves['shot_performance'] = group_xsaves['save%'] - group_xsaves['xS%']\n",
                "group_xsaves['PSxG/SoTA'] = group_xsaves['PSxG'] / group_xsaves.SoTA\n",
                "print(group_xsaves)"
            ],
            "outputs": [
                {
                    "output_type": "stream",
                    "name": "stdout",
                    "text": [
                        "         Saves    xS   SoTA  PSxG    GA       xS%    Saves%    saves2  \\\n",
                        "Squad                                                                   \n",
                        "Everton   90.0  89.3  128.0  38.7  39.0  0.697656  0.703125  0.695312   \n",
                        "\n",
                        "         shot_performance  PSxG/SoTA  \n",
                        "Squad                                 \n",
                        "Everton         -0.002344   0.302344  \n"
                    ]
                }
            ],
            "metadata": {}
        },
        {
            "cell_type": "code",
            "execution_count": null,
            "source": [],
            "outputs": [],
            "metadata": {}
        }
    ],
    "metadata": {
        "orig_nbformat": 4,
        "language_info": {
            "name": "python",
            "version": "3.7.6",
            "mimetype": "text/x-python",
            "codemirror_mode": {
                "name": "ipython",
                "version": 3
            },
            "pygments_lexer": "ipython3",
            "nbconvert_exporter": "python",
            "file_extension": ".py"
        },
        "kernelspec": {
            "name": "python3",
            "display_name": "Python 3.7.6 64-bit ('base': conda)"
        },
        "interpreter": {
            "hash": "e134e05457d34029b6460cd73bbf1ed73f339b5b6d98c95be70b69eba114fe95"
        }
    },
    "nbformat": 4,
    "nbformat_minor": 2
}